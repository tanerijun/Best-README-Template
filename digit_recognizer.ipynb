{
  "nbformat": 4,
  "nbformat_minor": 0,
  "metadata": {
    "colab": {
      "provenance": [],
      "authorship_tag": "ABX9TyOfHGkZaafxiwO69wGassC8",
      "include_colab_link": true
    },
    "kernelspec": {
      "name": "python3",
      "display_name": "Python 3"
    },
    "language_info": {
      "name": "python"
    }
  },
  "cells": [
    {
      "cell_type": "markdown",
      "metadata": {
        "id": "view-in-github",
        "colab_type": "text"
      },
      "source": [
        "<a href=\"https://colab.research.google.com/github/tanerijun/Best-README-Template/blob/master/digit_recognizer.ipynb\" target=\"_parent\"><img src=\"https://colab.research.google.com/assets/colab-badge.svg\" alt=\"Open In Colab\"/></a>"
      ]
    },
    {
      "cell_type": "code",
      "source": [
        "#!pip install fastai"
      ],
      "metadata": {
        "collapsed": true,
        "id": "RRTcyGci8njy"
      },
      "execution_count": 1,
      "outputs": []
    },
    {
      "cell_type": "code",
      "source": [
        "from fastai.vision.all import *"
      ],
      "metadata": {
        "id": "AoUbqZFO88Us"
      },
      "execution_count": 2,
      "outputs": []
    },
    {
      "cell_type": "code",
      "source": [
        "# plot_function from fastbook\n",
        "def plot_function(f, tx=None, ty=None, title=None, min=-2, max=2, figsize=(6,4)):\n",
        "    x = torch.linspace(min,max, 100)\n",
        "    fig,ax = plt.subplots(figsize=figsize)\n",
        "    ax.plot(x,f(x))\n",
        "    if tx is not None: ax.set_xlabel(tx)\n",
        "    if ty is not None: ax.set_ylabel(ty)\n",
        "    if title is not None: ax.set_title(title)"
      ],
      "metadata": {
        "id": "ynCY7ZD9Tbx1"
      },
      "execution_count": 3,
      "outputs": []
    },
    {
      "cell_type": "code",
      "execution_count": 4,
      "metadata": {
        "colab": {
          "base_uri": "https://localhost:8080/",
          "height": 37
        },
        "id": "ce_p1CSY8ckV",
        "outputId": "1158b8b8-990c-4cdf-b7d1-7e45632771c9"
      },
      "outputs": [
        {
          "output_type": "display_data",
          "data": {
            "text/plain": [
              "<IPython.core.display.HTML object>"
            ],
            "text/html": [
              "\n",
              "<style>\n",
              "    /* Turns off some styling */\n",
              "    progress {\n",
              "        /* gets rid of default border in Firefox and Opera. */\n",
              "        border: none;\n",
              "        /* Needs to be in here for Safari polyfill so background images work as expected. */\n",
              "        background-size: auto;\n",
              "    }\n",
              "    progress:not([value]), progress:not([value])::-webkit-progress-bar {\n",
              "        background: repeating-linear-gradient(45deg, #7e7e7e, #7e7e7e 10px, #5c5c5c 10px, #5c5c5c 20px);\n",
              "    }\n",
              "    .progress-bar-interrupted, .progress-bar-interrupted::-webkit-progress-bar {\n",
              "        background: #F44336;\n",
              "    }\n",
              "</style>\n"
            ]
          },
          "metadata": {}
        },
        {
          "output_type": "display_data",
          "data": {
            "text/plain": [
              "<IPython.core.display.HTML object>"
            ],
            "text/html": [
              "\n",
              "    <div>\n",
              "      <progress value='3219456' class='' max='3214948' style='width:300px; height:20px; vertical-align: middle;'></progress>\n",
              "      100.14% [3219456/3214948 00:00&lt;00:00]\n",
              "    </div>\n",
              "    "
            ]
          },
          "metadata": {}
        }
      ],
      "source": [
        "path = untar_data(URLs.MNIST_SAMPLE)"
      ]
    },
    {
      "cell_type": "code",
      "source": [
        "path.ls()"
      ],
      "metadata": {
        "colab": {
          "base_uri": "https://localhost:8080/"
        },
        "id": "bCF3wgmB_mxV",
        "outputId": "c80e506b-6dfc-4a5d-cad4-867857e17b0a"
      },
      "execution_count": 5,
      "outputs": [
        {
          "output_type": "execute_result",
          "data": {
            "text/plain": [
              "(#3) [Path('/root/.fastai/data/mnist_sample/labels.csv'),Path('/root/.fastai/data/mnist_sample/valid'),Path('/root/.fastai/data/mnist_sample/train')]"
            ]
          },
          "metadata": {},
          "execution_count": 5
        }
      ]
    },
    {
      "cell_type": "code",
      "source": [
        "(path/'train').ls()"
      ],
      "metadata": {
        "colab": {
          "base_uri": "https://localhost:8080/"
        },
        "id": "NP0aGTUC_wVo",
        "outputId": "7604f0d0-d164-4cda-b1e6-66ddcfb22ab0"
      },
      "execution_count": 6,
      "outputs": [
        {
          "output_type": "execute_result",
          "data": {
            "text/plain": [
              "(#2) [Path('/root/.fastai/data/mnist_sample/train/3'),Path('/root/.fastai/data/mnist_sample/train/7')]"
            ]
          },
          "metadata": {},
          "execution_count": 6
        }
      ]
    },
    {
      "cell_type": "markdown",
      "source": [
        "The folders are filled with images"
      ],
      "metadata": {
        "id": "rTjb0cakAQAb"
      }
    },
    {
      "cell_type": "code",
      "source": [
        "threes = (path/'train'/'3').ls().sorted()\n",
        "sevens = (path/'train'/'7').ls().sorted()\n",
        "threes"
      ],
      "metadata": {
        "colab": {
          "base_uri": "https://localhost:8080/"
        },
        "id": "1rYspPhoAft7",
        "outputId": "5571eb89-3c89-4876-df38-88640dee02b4"
      },
      "execution_count": 7,
      "outputs": [
        {
          "output_type": "execute_result",
          "data": {
            "text/plain": [
              "(#6131) [Path('/root/.fastai/data/mnist_sample/train/3/10.png'),Path('/root/.fastai/data/mnist_sample/train/3/10000.png'),Path('/root/.fastai/data/mnist_sample/train/3/10011.png'),Path('/root/.fastai/data/mnist_sample/train/3/10031.png'),Path('/root/.fastai/data/mnist_sample/train/3/10034.png'),Path('/root/.fastai/data/mnist_sample/train/3/10042.png'),Path('/root/.fastai/data/mnist_sample/train/3/10052.png'),Path('/root/.fastai/data/mnist_sample/train/3/1007.png'),Path('/root/.fastai/data/mnist_sample/train/3/10074.png'),Path('/root/.fastai/data/mnist_sample/train/3/10091.png')...]"
            ]
          },
          "metadata": {},
          "execution_count": 7
        }
      ]
    },
    {
      "cell_type": "markdown",
      "source": [
        "Let's take a look at one of the images"
      ],
      "metadata": {
        "id": "UHkmSn40AzLd"
      }
    },
    {
      "cell_type": "code",
      "source": [
        "im3_path = threes[1]\n",
        "im3 = Image.open(im3_path)\n",
        "im3"
      ],
      "metadata": {
        "colab": {
          "base_uri": "https://localhost:8080/",
          "height": 45
        },
        "id": "DoM-RHogA1bw",
        "outputId": "eb7b837b-d1af-4158-ba8d-8138dac72748"
      },
      "execution_count": 8,
      "outputs": [
        {
          "output_type": "execute_result",
          "data": {
            "text/plain": [
              "<PIL.PngImagePlugin.PngImageFile image mode=L size=28x28>"
            ],
            "image/png": "[encoded data removed]"
          },
          "metadata": {},
          "execution_count": 8
        }
      ]
    },
    {
      "cell_type": "markdown",
      "source": [
        "In a computer, everything is represented as a number. To view the numbers that make up this image, we have to convert it to a NumPy array or a PyTorch tensor."
      ],
      "metadata": {
        "id": "eIAmWvlmBKpE"
      }
    },
    {
      "cell_type": "code",
      "source": [
        "array(im3)[4:10,4:10] # The 4:10 indicates we requested the rows from index 4 (inclusive) to 10 (noninclu‐ sive), and the same for the columns"
      ],
      "metadata": {
        "colab": {
          "base_uri": "https://localhost:8080/"
        },
        "id": "TpSsXPoLBL4N",
        "outputId": "2472cd29-3a86-4f29-eedd-f08ecbfc690c"
      },
      "execution_count": 9,
      "outputs": [
        {
          "output_type": "execute_result",
          "data": {
            "text/plain": [
              "array([[  0,   0,   0,   0,   0,   0],\n",
              "       [  0,   0,   0,   0,   0,  29],\n",
              "       [  0,   0,   0,  48, 166, 224],\n",
              "       [  0,  93, 244, 249, 253, 187],\n",
              "       [  0, 107, 253, 253, 230,  48],\n",
              "       [  0,   3,  20,  20,  15,   0]], dtype=uint8)"
            ]
          },
          "metadata": {},
          "execution_count": 9
        }
      ]
    },
    {
      "cell_type": "markdown",
      "source": [
        "As PyTorch tensor"
      ],
      "metadata": {
        "id": "wtpOgXS0ByLu"
      }
    },
    {
      "cell_type": "code",
      "source": [
        "tensor(im3)[4:10,4:10]"
      ],
      "metadata": {
        "colab": {
          "base_uri": "https://localhost:8080/"
        },
        "id": "ADD52QV_B3BV",
        "outputId": "e87058cc-bbd3-450c-82e7-97c82962f61b"
      },
      "execution_count": 10,
      "outputs": [
        {
          "output_type": "execute_result",
          "data": {
            "text/plain": [
              "tensor([[  0,   0,   0,   0,   0,   0],\n",
              "        [  0,   0,   0,   0,   0,  29],\n",
              "        [  0,   0,   0,  48, 166, 224],\n",
              "        [  0,  93, 244, 249, 253, 187],\n",
              "        [  0, 107, 253, 253, 230,  48],\n",
              "        [  0,   3,  20,  20,  15,   0]], dtype=torch.uint8)"
            ]
          },
          "metadata": {},
          "execution_count": 10
        }
      ]
    },
    {
      "cell_type": "markdown",
      "source": [
        "\n",
        "We can slice the array to pick just the part with the top of the digit in it, and then use a Pandas DataFrame to color-code the values using a gradient, which shows us clearly how the image is created from the pixel values:"
      ],
      "metadata": {
        "id": "6oopabLYDNfj"
      }
    },
    {
      "cell_type": "code",
      "source": [
        "im3_t = tensor(im3)\n",
        "df = pd.DataFrame(im3_t[4:15, 4:22])\n",
        "df.style.set_properties(**{'font-size':'6pt'}).background_gradient('Greys')"
      ],
      "metadata": {
        "colab": {
          "base_uri": "https://localhost:8080/",
          "height": 394
        },
        "id": "22zrH3LBDOFd",
        "outputId": "37261037-1f8b-452d-8363-07826cf5f03d"
      },
      "execution_count": 11,
      "outputs": [
        {
          "output_type": "execute_result",
          "data": {
            "text/plain": [
              "<pandas.io.formats.style.Styler at 0x7af26992fe20>"
            ],
            "text/html": [
              "<style type=\"text/css\">\n",
              "#T_74ef1_row0_col0, #T_74ef1_row0_col1, #T_74ef1_row0_col2, #T_74ef1_row0_col3, #T_74ef1_row0_col4, #T_74ef1_row0_col5, #T_74ef1_row0_col6, #T_74ef1_row0_col7, #T_74ef1_row0_col8, #T_74ef1_row0_col9, #T_74ef1_row0_col10, #T_74ef1_row0_col11, #T_74ef1_row0_col12, #T_74ef1_row0_col13, #T_74ef1_row0_col14, #T_74ef1_row0_col15, #T_74ef1_row0_col16, #T_74ef1_row0_col17, #T_74ef1_row1_col0, #T_74ef1_row1_col1, #T_74ef1_row1_col2, #T_74ef1_row1_col3, #T_74ef1_row1_col4, #T_74ef1_row1_col15, #T_74ef1_row1_col16, #T_74ef1_row1_col17, #T_74ef1_row2_col0, #T_74ef1_row2_col1, #T_74ef1_row2_col2, #T_74ef1_row2_col15, #T_74ef1_row2_col16, #T_74ef1_row2_col17, #T_74ef1_row3_col0, #T_74ef1_row3_col15, #T_74ef1_row3_col16, #T_74ef1_row3_col17, #T_74ef1_row4_col0, #T_74ef1_row4_col6, #T_74ef1_row4_col7, #T_74ef1_row4_col8, #T_74ef1_row4_col9, #T_74ef1_row4_col10, #T_74ef1_row4_col15, #T_74ef1_row4_col16, #T_74ef1_row4_col17, #T_74ef1_row5_col0, #T_74ef1_row5_col5, #T_74ef1_row5_col6, #T_74ef1_row5_col7, #T_74ef1_row5_col8, #T_74ef1_row5_col9, #T_74ef1_row5_col15, #T_74ef1_row5_col16, #T_74ef1_row5_col17, #T_74ef1_row6_col0, #T_74ef1_row6_col1, #T_74ef1_row6_col2, #T_74ef1_row6_col3, #T_74ef1_row6_col4, #T_74ef1_row6_col5, #T_74ef1_row6_col6, #T_74ef1_row6_col7, #T_74ef1_row6_col8, #T_74ef1_row6_col9, #T_74ef1_row6_col14, #T_74ef1_row6_col15, #T_74ef1_row6_col16, #T_74ef1_row6_col17, #T_74ef1_row7_col0, #T_74ef1_row7_col1, #T_74ef1_row7_col2, #T_74ef1_row7_col3, #T_74ef1_row7_col4, #T_74ef1_row7_col5, #T_74ef1_row7_col6, #T_74ef1_row7_col13, #T_74ef1_row7_col14, #T_74ef1_row7_col15, #T_74ef1_row7_col16, #T_74ef1_row7_col17, #T_74ef1_row8_col0, #T_74ef1_row8_col1, #T_74ef1_row8_col2, #T_74ef1_row8_col3, #T_74ef1_row8_col4, #T_74ef1_row8_col13, #T_74ef1_row8_col14, #T_74ef1_row8_col15, #T_74ef1_row8_col16, #T_74ef1_row8_col17, #T_74ef1_row9_col0, #T_74ef1_row9_col1, #T_74ef1_row9_col2, #T_74ef1_row9_col3, #T_74ef1_row9_col4, #T_74ef1_row9_col16, #T_74ef1_row9_col17, #T_74ef1_row10_col0, #T_74ef1_row10_col1, #T_74ef1_row10_col2, #T_74ef1_row10_col3, #T_74ef1_row10_col4, #T_74ef1_row10_col5, #T_74ef1_row10_col6, #T_74ef1_row10_col17 {\n",
              "  font-size: 6pt;\n",
              "  background-color: #ffffff;\n",
              "  color: #000000;\n",
              "}\n",
              "#T_74ef1_row1_col5 {\n",
              "  font-size: 6pt;\n",
              "  background-color: #efefef;\n",
              "  color: #000000;\n",
              "}\n",
              "#T_74ef1_row1_col6, #T_74ef1_row1_col13 {\n",
              "  font-size: 6pt;\n",
              "  background-color: #7c7c7c;\n",
              "  color: #f1f1f1;\n",
              "}\n",
              "#T_74ef1_row1_col7 {\n",
              "  font-size: 6pt;\n",
              "  background-color: #4a4a4a;\n",
              "  color: #f1f1f1;\n",
              "}\n",
              "#T_74ef1_row1_col8, #T_74ef1_row1_col9, #T_74ef1_row1_col10, #T_74ef1_row2_col5, #T_74ef1_row2_col6, #T_74ef1_row2_col7, #T_74ef1_row2_col11, #T_74ef1_row2_col12, #T_74ef1_row2_col13, #T_74ef1_row3_col4, #T_74ef1_row3_col12, #T_74ef1_row3_col13, #T_74ef1_row4_col1, #T_74ef1_row4_col2, #T_74ef1_row4_col3, #T_74ef1_row4_col12, #T_74ef1_row4_col13, #T_74ef1_row5_col12, #T_74ef1_row6_col11, #T_74ef1_row9_col11, #T_74ef1_row10_col11, #T_74ef1_row10_col12, #T_74ef1_row10_col13, #T_74ef1_row10_col14, #T_74ef1_row10_col15, #T_74ef1_row10_col16 {\n",
              "  font-size: 6pt;\n",
              "  background-color: #000000;\n",
              "  color: #f1f1f1;\n",
              "}\n",
              "#T_74ef1_row1_col11 {\n",
              "  font-size: 6pt;\n",
              "  background-color: #606060;\n",
              "  color: #f1f1f1;\n",
              "}\n",
              "#T_74ef1_row1_col12 {\n",
              "  font-size: 6pt;\n",
              "  background-color: #4d4d4d;\n",
              "  color: #f1f1f1;\n",
              "}\n",
              "#T_74ef1_row1_col14 {\n",
              "  font-size: 6pt;\n",
              "  background-color: #bbbbbb;\n",
              "  color: #000000;\n",
              "}\n",
              "#T_74ef1_row2_col3 {\n",
              "  font-size: 6pt;\n",
              "  background-color: #e4e4e4;\n",
              "  color: #000000;\n",
              "}\n",
              "#T_74ef1_row2_col4, #T_74ef1_row8_col6 {\n",
              "  font-size: 6pt;\n",
              "  background-color: #6b6b6b;\n",
              "  color: #f1f1f1;\n",
              "}\n",
              "#T_74ef1_row2_col8, #T_74ef1_row2_col14, #T_74ef1_row3_col14 {\n",
              "  font-size: 6pt;\n",
              "  background-color: #171717;\n",
              "  color: #f1f1f1;\n",
              "}\n",
              "#T_74ef1_row2_col9, #T_74ef1_row3_col11 {\n",
              "  font-size: 6pt;\n",
              "  background-color: #4b4b4b;\n",
              "  color: #f1f1f1;\n",
              "}\n",
              "#T_74ef1_row2_col10, #T_74ef1_row7_col10, #T_74ef1_row8_col8, #T_74ef1_row8_col10, #T_74ef1_row9_col8, #T_74ef1_row9_col10 {\n",
              "  font-size: 6pt;\n",
              "  background-color: #010101;\n",
              "  color: #f1f1f1;\n",
              "}\n",
              "#T_74ef1_row3_col1 {\n",
              "  font-size: 6pt;\n",
              "  background-color: #272727;\n",
              "  color: #f1f1f1;\n",
              "}\n",
              "#T_74ef1_row3_col2 {\n",
              "  font-size: 6pt;\n",
              "  background-color: #0a0a0a;\n",
              "  color: #f1f1f1;\n",
              "}\n",
              "#T_74ef1_row3_col3 {\n",
              "  font-size: 6pt;\n",
              "  background-color: #050505;\n",
              "  color: #f1f1f1;\n",
              "}\n",
              "#T_74ef1_row3_col5 {\n",
              "  font-size: 6pt;\n",
              "  background-color: #333333;\n",
              "  color: #f1f1f1;\n",
              "}\n",
              "#T_74ef1_row3_col6 {\n",
              "  font-size: 6pt;\n",
              "  background-color: #e6e6e6;\n",
              "  color: #000000;\n",
              "}\n",
              "#T_74ef1_row3_col7, #T_74ef1_row3_col10 {\n",
              "  font-size: 6pt;\n",
              "  background-color: #fafafa;\n",
              "  color: #000000;\n",
              "}\n",
              "#T_74ef1_row3_col8 {\n",
              "  font-size: 6pt;\n",
              "  background-color: #fbfbfb;\n",
              "  color: #000000;\n",
              "}\n",
              "#T_74ef1_row3_col9 {\n",
              "  font-size: 6pt;\n",
              "  background-color: #fdfdfd;\n",
              "  color: #000000;\n",
              "}\n",
              "#T_74ef1_row4_col4 {\n",
              "  font-size: 6pt;\n",
              "  background-color: #1b1b1b;\n",
              "  color: #f1f1f1;\n",
              "}\n",
              "#T_74ef1_row4_col5 {\n",
              "  font-size: 6pt;\n",
              "  background-color: #e0e0e0;\n",
              "  color: #000000;\n",
              "}\n",
              "#T_74ef1_row4_col11 {\n",
              "  font-size: 6pt;\n",
              "  background-color: #4e4e4e;\n",
              "  color: #f1f1f1;\n",
              "}\n",
              "#T_74ef1_row4_col14 {\n",
              "  font-size: 6pt;\n",
              "  background-color: #767676;\n",
              "  color: #f1f1f1;\n",
              "}\n",
              "#T_74ef1_row5_col1 {\n",
              "  font-size: 6pt;\n",
              "  background-color: #fcfcfc;\n",
              "  color: #000000;\n",
              "}\n",
              "#T_74ef1_row5_col2, #T_74ef1_row5_col3 {\n",
              "  font-size: 6pt;\n",
              "  background-color: #f6f6f6;\n",
              "  color: #000000;\n",
              "}\n",
              "#T_74ef1_row5_col4, #T_74ef1_row7_col7 {\n",
              "  font-size: 6pt;\n",
              "  background-color: #f8f8f8;\n",
              "  color: #000000;\n",
              "}\n",
              "#T_74ef1_row5_col10, #T_74ef1_row10_col7 {\n",
              "  font-size: 6pt;\n",
              "  background-color: #e8e8e8;\n",
              "  color: #000000;\n",
              "}\n",
              "#T_74ef1_row5_col11 {\n",
              "  font-size: 6pt;\n",
              "  background-color: #222222;\n",
              "  color: #f1f1f1;\n",
              "}\n",
              "#T_74ef1_row5_col13, #T_74ef1_row6_col12 {\n",
              "  font-size: 6pt;\n",
              "  background-color: #090909;\n",
              "  color: #f1f1f1;\n",
              "}\n",
              "#T_74ef1_row5_col14 {\n",
              "  font-size: 6pt;\n",
              "  background-color: #d0d0d0;\n",
              "  color: #000000;\n",
              "}\n",
              "#T_74ef1_row6_col10, #T_74ef1_row7_col11, #T_74ef1_row9_col6 {\n",
              "  font-size: 6pt;\n",
              "  background-color: #060606;\n",
              "  color: #f1f1f1;\n",
              "}\n",
              "#T_74ef1_row6_col13 {\n",
              "  font-size: 6pt;\n",
              "  background-color: #979797;\n",
              "  color: #f1f1f1;\n",
              "}\n",
              "#T_74ef1_row7_col8 {\n",
              "  font-size: 6pt;\n",
              "  background-color: #b6b6b6;\n",
              "  color: #000000;\n",
              "}\n",
              "#T_74ef1_row7_col9 {\n",
              "  font-size: 6pt;\n",
              "  background-color: #252525;\n",
              "  color: #f1f1f1;\n",
              "}\n",
              "#T_74ef1_row7_col12 {\n",
              "  font-size: 6pt;\n",
              "  background-color: #999999;\n",
              "  color: #f1f1f1;\n",
              "}\n",
              "#T_74ef1_row8_col5 {\n",
              "  font-size: 6pt;\n",
              "  background-color: #f9f9f9;\n",
              "  color: #000000;\n",
              "}\n",
              "#T_74ef1_row8_col7 {\n",
              "  font-size: 6pt;\n",
              "  background-color: #101010;\n",
              "  color: #f1f1f1;\n",
              "}\n",
              "#T_74ef1_row8_col9, #T_74ef1_row9_col9 {\n",
              "  font-size: 6pt;\n",
              "  background-color: #020202;\n",
              "  color: #f1f1f1;\n",
              "}\n",
              "#T_74ef1_row8_col11 {\n",
              "  font-size: 6pt;\n",
              "  background-color: #545454;\n",
              "  color: #f1f1f1;\n",
              "}\n",
              "#T_74ef1_row8_col12 {\n",
              "  font-size: 6pt;\n",
              "  background-color: #f1f1f1;\n",
              "  color: #000000;\n",
              "}\n",
              "#T_74ef1_row9_col5 {\n",
              "  font-size: 6pt;\n",
              "  background-color: #f7f7f7;\n",
              "  color: #000000;\n",
              "}\n",
              "#T_74ef1_row9_col7 {\n",
              "  font-size: 6pt;\n",
              "  background-color: #030303;\n",
              "  color: #f1f1f1;\n",
              "}\n",
              "#T_74ef1_row9_col12 {\n",
              "  font-size: 6pt;\n",
              "  background-color: #181818;\n",
              "  color: #f1f1f1;\n",
              "}\n",
              "#T_74ef1_row9_col13 {\n",
              "  font-size: 6pt;\n",
              "  background-color: #303030;\n",
              "  color: #f1f1f1;\n",
              "}\n",
              "#T_74ef1_row9_col14 {\n",
              "  font-size: 6pt;\n",
              "  background-color: #a9a9a9;\n",
              "  color: #f1f1f1;\n",
              "}\n",
              "#T_74ef1_row9_col15 {\n",
              "  font-size: 6pt;\n",
              "  background-color: #fefefe;\n",
              "  color: #000000;\n",
              "}\n",
              "#T_74ef1_row10_col8, #T_74ef1_row10_col9 {\n",
              "  font-size: 6pt;\n",
              "  background-color: #bababa;\n",
              "  color: #000000;\n",
              "}\n",
              "#T_74ef1_row10_col10 {\n",
              "  font-size: 6pt;\n",
              "  background-color: #393939;\n",
              "  color: #f1f1f1;\n",
              "}\n",
              "</style>\n",
              "<table id=\"T_74ef1\" class=\"dataframe\">\n",
              "  <thead>\n",
              "    <tr>\n",
              "      <th class=\"blank level0\" >&nbsp;</th>\n",
              "      <th id=\"T_74ef1_level0_col0\" class=\"col_heading level0 col0\" >0</th>\n",
              "      <th id=\"T_74ef1_level0_col1\" class=\"col_heading level0 col1\" >1</th>\n",
              "      <th id=\"T_74ef1_level0_col2\" class=\"col_heading level0 col2\" >2</th>\n",
              "      <th id=\"T_74ef1_level0_col3\" class=\"col_heading level0 col3\" >3</th>\n",
              "      <th id=\"T_74ef1_level0_col4\" class=\"col_heading level0 col4\" >4</th>\n",
              "      <th id=\"T_74ef1_level0_col5\" class=\"col_heading level0 col5\" >5</th>\n",
              "      <th id=\"T_74ef1_level0_col6\" class=\"col_heading level0 col6\" >6</th>\n",
              "      <th id=\"T_74ef1_level0_col7\" class=\"col_heading level0 col7\" >7</th>\n",
              "      <th id=\"T_74ef1_level0_col8\" class=\"col_heading level0 col8\" >8</th>\n",
              "      <th id=\"T_74ef1_level0_col9\" class=\"col_heading level0 col9\" >9</th>\n",
              "      <th id=\"T_74ef1_level0_col10\" class=\"col_heading level0 col10\" >10</th>\n",
              "      <th id=\"T_74ef1_level0_col11\" class=\"col_heading level0 col11\" >11</th>\n",
              "      <th id=\"T_74ef1_level0_col12\" class=\"col_heading level0 col12\" >12</th>\n",
              "      <th id=\"T_74ef1_level0_col13\" class=\"col_heading level0 col13\" >13</th>\n",
              "      <th id=\"T_74ef1_level0_col14\" class=\"col_heading level0 col14\" >14</th>\n",
              "      <th id=\"T_74ef1_level0_col15\" class=\"col_heading level0 col15\" >15</th>\n",
              "      <th id=\"T_74ef1_level0_col16\" class=\"col_heading level0 col16\" >16</th>\n",
              "      <th id=\"T_74ef1_level0_col17\" class=\"col_heading level0 col17\" >17</th>\n",
              "    </tr>\n",
              "  </thead>\n",
              "  <tbody>\n",
              "    <tr>\n",
              "      <th id=\"T_74ef1_level0_row0\" class=\"row_heading level0 row0\" >0</th>\n",
              "      <td id=\"T_74ef1_row0_col0\" class=\"data row0 col0\" >0</td>\n",
              "      <td id=\"T_74ef1_row0_col1\" class=\"data row0 col1\" >0</td>\n",
              "      <td id=\"T_74ef1_row0_col2\" class=\"data row0 col2\" >0</td>\n",
              "      <td id=\"T_74ef1_row0_col3\" class=\"data row0 col3\" >0</td>\n",
              "      <td id=\"T_74ef1_row0_col4\" class=\"data row0 col4\" >0</td>\n",
              "      <td id=\"T_74ef1_row0_col5\" class=\"data row0 col5\" >0</td>\n",
              "      <td id=\"T_74ef1_row0_col6\" class=\"data row0 col6\" >0</td>\n",
              "      <td id=\"T_74ef1_row0_col7\" class=\"data row0 col7\" >0</td>\n",
              "      <td id=\"T_74ef1_row0_col8\" class=\"data row0 col8\" >0</td>\n",
              "      <td id=\"T_74ef1_row0_col9\" class=\"data row0 col9\" >0</td>\n",
              "      <td id=\"T_74ef1_row0_col10\" class=\"data row0 col10\" >0</td>\n",
              "      <td id=\"T_74ef1_row0_col11\" class=\"data row0 col11\" >0</td>\n",
              "      <td id=\"T_74ef1_row0_col12\" class=\"data row0 col12\" >0</td>\n",
              "      <td id=\"T_74ef1_row0_col13\" class=\"data row0 col13\" >0</td>\n",
              "      <td id=\"T_74ef1_row0_col14\" class=\"data row0 col14\" >0</td>\n",
              "      <td id=\"T_74ef1_row0_col15\" class=\"data row0 col15\" >0</td>\n",
              "      <td id=\"T_74ef1_row0_col16\" class=\"data row0 col16\" >0</td>\n",
              "      <td id=\"T_74ef1_row0_col17\" class=\"data row0 col17\" >0</td>\n",
              "    </tr>\n",
              "    <tr>\n",
              "      <th id=\"T_74ef1_level0_row1\" class=\"row_heading level0 row1\" >1</th>\n",
              "      <td id=\"T_74ef1_row1_col0\" class=\"data row1 col0\" >0</td>\n",
              "      <td id=\"T_74ef1_row1_col1\" class=\"data row1 col1\" >0</td>\n",
              "      <td id=\"T_74ef1_row1_col2\" class=\"data row1 col2\" >0</td>\n",
              "      <td id=\"T_74ef1_row1_col3\" class=\"data row1 col3\" >0</td>\n",
              "      <td id=\"T_74ef1_row1_col4\" class=\"data row1 col4\" >0</td>\n",
              "      <td id=\"T_74ef1_row1_col5\" class=\"data row1 col5\" >29</td>\n",
              "      <td id=\"T_74ef1_row1_col6\" class=\"data row1 col6\" >150</td>\n",
              "      <td id=\"T_74ef1_row1_col7\" class=\"data row1 col7\" >195</td>\n",
              "      <td id=\"T_74ef1_row1_col8\" class=\"data row1 col8\" >254</td>\n",
              "      <td id=\"T_74ef1_row1_col9\" class=\"data row1 col9\" >255</td>\n",
              "      <td id=\"T_74ef1_row1_col10\" class=\"data row1 col10\" >254</td>\n",
              "      <td id=\"T_74ef1_row1_col11\" class=\"data row1 col11\" >176</td>\n",
              "      <td id=\"T_74ef1_row1_col12\" class=\"data row1 col12\" >193</td>\n",
              "      <td id=\"T_74ef1_row1_col13\" class=\"data row1 col13\" >150</td>\n",
              "      <td id=\"T_74ef1_row1_col14\" class=\"data row1 col14\" >96</td>\n",
              "      <td id=\"T_74ef1_row1_col15\" class=\"data row1 col15\" >0</td>\n",
              "      <td id=\"T_74ef1_row1_col16\" class=\"data row1 col16\" >0</td>\n",
              "      <td id=\"T_74ef1_row1_col17\" class=\"data row1 col17\" >0</td>\n",
              "    </tr>\n",
              "    <tr>\n",
              "      <th id=\"T_74ef1_level0_row2\" class=\"row_heading level0 row2\" >2</th>\n",
              "      <td id=\"T_74ef1_row2_col0\" class=\"data row2 col0\" >0</td>\n",
              "      <td id=\"T_74ef1_row2_col1\" class=\"data row2 col1\" >0</td>\n",
              "      <td id=\"T_74ef1_row2_col2\" class=\"data row2 col2\" >0</td>\n",
              "      <td id=\"T_74ef1_row2_col3\" class=\"data row2 col3\" >48</td>\n",
              "      <td id=\"T_74ef1_row2_col4\" class=\"data row2 col4\" >166</td>\n",
              "      <td id=\"T_74ef1_row2_col5\" class=\"data row2 col5\" >224</td>\n",
              "      <td id=\"T_74ef1_row2_col6\" class=\"data row2 col6\" >253</td>\n",
              "      <td id=\"T_74ef1_row2_col7\" class=\"data row2 col7\" >253</td>\n",
              "      <td id=\"T_74ef1_row2_col8\" class=\"data row2 col8\" >234</td>\n",
              "      <td id=\"T_74ef1_row2_col9\" class=\"data row2 col9\" >196</td>\n",
              "      <td id=\"T_74ef1_row2_col10\" class=\"data row2 col10\" >253</td>\n",
              "      <td id=\"T_74ef1_row2_col11\" class=\"data row2 col11\" >253</td>\n",
              "      <td id=\"T_74ef1_row2_col12\" class=\"data row2 col12\" >253</td>\n",
              "      <td id=\"T_74ef1_row2_col13\" class=\"data row2 col13\" >253</td>\n",
              "      <td id=\"T_74ef1_row2_col14\" class=\"data row2 col14\" >233</td>\n",
              "      <td id=\"T_74ef1_row2_col15\" class=\"data row2 col15\" >0</td>\n",
              "      <td id=\"T_74ef1_row2_col16\" class=\"data row2 col16\" >0</td>\n",
              "      <td id=\"T_74ef1_row2_col17\" class=\"data row2 col17\" >0</td>\n",
              "    </tr>\n",
              "    <tr>\n",
              "      <th id=\"T_74ef1_level0_row3\" class=\"row_heading level0 row3\" >3</th>\n",
              "      <td id=\"T_74ef1_row3_col0\" class=\"data row3 col0\" >0</td>\n",
              "      <td id=\"T_74ef1_row3_col1\" class=\"data row3 col1\" >93</td>\n",
              "      <td id=\"T_74ef1_row3_col2\" class=\"data row3 col2\" >244</td>\n",
              "      <td id=\"T_74ef1_row3_col3\" class=\"data row3 col3\" >249</td>\n",
              "      <td id=\"T_74ef1_row3_col4\" class=\"data row3 col4\" >253</td>\n",
              "      <td id=\"T_74ef1_row3_col5\" class=\"data row3 col5\" >187</td>\n",
              "      <td id=\"T_74ef1_row3_col6\" class=\"data row3 col6\" >46</td>\n",
              "      <td id=\"T_74ef1_row3_col7\" class=\"data row3 col7\" >10</td>\n",
              "      <td id=\"T_74ef1_row3_col8\" class=\"data row3 col8\" >8</td>\n",
              "      <td id=\"T_74ef1_row3_col9\" class=\"data row3 col9\" >4</td>\n",
              "      <td id=\"T_74ef1_row3_col10\" class=\"data row3 col10\" >10</td>\n",
              "      <td id=\"T_74ef1_row3_col11\" class=\"data row3 col11\" >194</td>\n",
              "      <td id=\"T_74ef1_row3_col12\" class=\"data row3 col12\" >253</td>\n",
              "      <td id=\"T_74ef1_row3_col13\" class=\"data row3 col13\" >253</td>\n",
              "      <td id=\"T_74ef1_row3_col14\" class=\"data row3 col14\" >233</td>\n",
              "      <td id=\"T_74ef1_row3_col15\" class=\"data row3 col15\" >0</td>\n",
              "      <td id=\"T_74ef1_row3_col16\" class=\"data row3 col16\" >0</td>\n",
              "      <td id=\"T_74ef1_row3_col17\" class=\"data row3 col17\" >0</td>\n",
              "    </tr>\n",
              "    <tr>\n",
              "      <th id=\"T_74ef1_level0_row4\" class=\"row_heading level0 row4\" >4</th>\n",
              "      <td id=\"T_74ef1_row4_col0\" class=\"data row4 col0\" >0</td>\n",
              "      <td id=\"T_74ef1_row4_col1\" class=\"data row4 col1\" >107</td>\n",
              "      <td id=\"T_74ef1_row4_col2\" class=\"data row4 col2\" >253</td>\n",
              "      <td id=\"T_74ef1_row4_col3\" class=\"data row4 col3\" >253</td>\n",
              "      <td id=\"T_74ef1_row4_col4\" class=\"data row4 col4\" >230</td>\n",
              "      <td id=\"T_74ef1_row4_col5\" class=\"data row4 col5\" >48</td>\n",
              "      <td id=\"T_74ef1_row4_col6\" class=\"data row4 col6\" >0</td>\n",
              "      <td id=\"T_74ef1_row4_col7\" class=\"data row4 col7\" >0</td>\n",
              "      <td id=\"T_74ef1_row4_col8\" class=\"data row4 col8\" >0</td>\n",
              "      <td id=\"T_74ef1_row4_col9\" class=\"data row4 col9\" >0</td>\n",
              "      <td id=\"T_74ef1_row4_col10\" class=\"data row4 col10\" >0</td>\n",
              "      <td id=\"T_74ef1_row4_col11\" class=\"data row4 col11\" >192</td>\n",
              "      <td id=\"T_74ef1_row4_col12\" class=\"data row4 col12\" >253</td>\n",
              "      <td id=\"T_74ef1_row4_col13\" class=\"data row4 col13\" >253</td>\n",
              "      <td id=\"T_74ef1_row4_col14\" class=\"data row4 col14\" >156</td>\n",
              "      <td id=\"T_74ef1_row4_col15\" class=\"data row4 col15\" >0</td>\n",
              "      <td id=\"T_74ef1_row4_col16\" class=\"data row4 col16\" >0</td>\n",
              "      <td id=\"T_74ef1_row4_col17\" class=\"data row4 col17\" >0</td>\n",
              "    </tr>\n",
              "    <tr>\n",
              "      <th id=\"T_74ef1_level0_row5\" class=\"row_heading level0 row5\" >5</th>\n",
              "      <td id=\"T_74ef1_row5_col0\" class=\"data row5 col0\" >0</td>\n",
              "      <td id=\"T_74ef1_row5_col1\" class=\"data row5 col1\" >3</td>\n",
              "      <td id=\"T_74ef1_row5_col2\" class=\"data row5 col2\" >20</td>\n",
              "      <td id=\"T_74ef1_row5_col3\" class=\"data row5 col3\" >20</td>\n",
              "      <td id=\"T_74ef1_row5_col4\" class=\"data row5 col4\" >15</td>\n",
              "      <td id=\"T_74ef1_row5_col5\" class=\"data row5 col5\" >0</td>\n",
              "      <td id=\"T_74ef1_row5_col6\" class=\"data row5 col6\" >0</td>\n",
              "      <td id=\"T_74ef1_row5_col7\" class=\"data row5 col7\" >0</td>\n",
              "      <td id=\"T_74ef1_row5_col8\" class=\"data row5 col8\" >0</td>\n",
              "      <td id=\"T_74ef1_row5_col9\" class=\"data row5 col9\" >0</td>\n",
              "      <td id=\"T_74ef1_row5_col10\" class=\"data row5 col10\" >43</td>\n",
              "      <td id=\"T_74ef1_row5_col11\" class=\"data row5 col11\" >224</td>\n",
              "      <td id=\"T_74ef1_row5_col12\" class=\"data row5 col12\" >253</td>\n",
              "      <td id=\"T_74ef1_row5_col13\" class=\"data row5 col13\" >245</td>\n",
              "      <td id=\"T_74ef1_row5_col14\" class=\"data row5 col14\" >74</td>\n",
              "      <td id=\"T_74ef1_row5_col15\" class=\"data row5 col15\" >0</td>\n",
              "      <td id=\"T_74ef1_row5_col16\" class=\"data row5 col16\" >0</td>\n",
              "      <td id=\"T_74ef1_row5_col17\" class=\"data row5 col17\" >0</td>\n",
              "    </tr>\n",
              "    <tr>\n",
              "      <th id=\"T_74ef1_level0_row6\" class=\"row_heading level0 row6\" >6</th>\n",
              "      <td id=\"T_74ef1_row6_col0\" class=\"data row6 col0\" >0</td>\n",
              "      <td id=\"T_74ef1_row6_col1\" class=\"data row6 col1\" >0</td>\n",
              "      <td id=\"T_74ef1_row6_col2\" class=\"data row6 col2\" >0</td>\n",
              "      <td id=\"T_74ef1_row6_col3\" class=\"data row6 col3\" >0</td>\n",
              "      <td id=\"T_74ef1_row6_col4\" class=\"data row6 col4\" >0</td>\n",
              "      <td id=\"T_74ef1_row6_col5\" class=\"data row6 col5\" >0</td>\n",
              "      <td id=\"T_74ef1_row6_col6\" class=\"data row6 col6\" >0</td>\n",
              "      <td id=\"T_74ef1_row6_col7\" class=\"data row6 col7\" >0</td>\n",
              "      <td id=\"T_74ef1_row6_col8\" class=\"data row6 col8\" >0</td>\n",
              "      <td id=\"T_74ef1_row6_col9\" class=\"data row6 col9\" >0</td>\n",
              "      <td id=\"T_74ef1_row6_col10\" class=\"data row6 col10\" >249</td>\n",
              "      <td id=\"T_74ef1_row6_col11\" class=\"data row6 col11\" >253</td>\n",
              "      <td id=\"T_74ef1_row6_col12\" class=\"data row6 col12\" >245</td>\n",
              "      <td id=\"T_74ef1_row6_col13\" class=\"data row6 col13\" >126</td>\n",
              "      <td id=\"T_74ef1_row6_col14\" class=\"data row6 col14\" >0</td>\n",
              "      <td id=\"T_74ef1_row6_col15\" class=\"data row6 col15\" >0</td>\n",
              "      <td id=\"T_74ef1_row6_col16\" class=\"data row6 col16\" >0</td>\n",
              "      <td id=\"T_74ef1_row6_col17\" class=\"data row6 col17\" >0</td>\n",
              "    </tr>\n",
              "    <tr>\n",
              "      <th id=\"T_74ef1_level0_row7\" class=\"row_heading level0 row7\" >7</th>\n",
              "      <td id=\"T_74ef1_row7_col0\" class=\"data row7 col0\" >0</td>\n",
              "      <td id=\"T_74ef1_row7_col1\" class=\"data row7 col1\" >0</td>\n",
              "      <td id=\"T_74ef1_row7_col2\" class=\"data row7 col2\" >0</td>\n",
              "      <td id=\"T_74ef1_row7_col3\" class=\"data row7 col3\" >0</td>\n",
              "      <td id=\"T_74ef1_row7_col4\" class=\"data row7 col4\" >0</td>\n",
              "      <td id=\"T_74ef1_row7_col5\" class=\"data row7 col5\" >0</td>\n",
              "      <td id=\"T_74ef1_row7_col6\" class=\"data row7 col6\" >0</td>\n",
              "      <td id=\"T_74ef1_row7_col7\" class=\"data row7 col7\" >14</td>\n",
              "      <td id=\"T_74ef1_row7_col8\" class=\"data row7 col8\" >101</td>\n",
              "      <td id=\"T_74ef1_row7_col9\" class=\"data row7 col9\" >223</td>\n",
              "      <td id=\"T_74ef1_row7_col10\" class=\"data row7 col10\" >253</td>\n",
              "      <td id=\"T_74ef1_row7_col11\" class=\"data row7 col11\" >248</td>\n",
              "      <td id=\"T_74ef1_row7_col12\" class=\"data row7 col12\" >124</td>\n",
              "      <td id=\"T_74ef1_row7_col13\" class=\"data row7 col13\" >0</td>\n",
              "      <td id=\"T_74ef1_row7_col14\" class=\"data row7 col14\" >0</td>\n",
              "      <td id=\"T_74ef1_row7_col15\" class=\"data row7 col15\" >0</td>\n",
              "      <td id=\"T_74ef1_row7_col16\" class=\"data row7 col16\" >0</td>\n",
              "      <td id=\"T_74ef1_row7_col17\" class=\"data row7 col17\" >0</td>\n",
              "    </tr>\n",
              "    <tr>\n",
              "      <th id=\"T_74ef1_level0_row8\" class=\"row_heading level0 row8\" >8</th>\n",
              "      <td id=\"T_74ef1_row8_col0\" class=\"data row8 col0\" >0</td>\n",
              "      <td id=\"T_74ef1_row8_col1\" class=\"data row8 col1\" >0</td>\n",
              "      <td id=\"T_74ef1_row8_col2\" class=\"data row8 col2\" >0</td>\n",
              "      <td id=\"T_74ef1_row8_col3\" class=\"data row8 col3\" >0</td>\n",
              "      <td id=\"T_74ef1_row8_col4\" class=\"data row8 col4\" >0</td>\n",
              "      <td id=\"T_74ef1_row8_col5\" class=\"data row8 col5\" >11</td>\n",
              "      <td id=\"T_74ef1_row8_col6\" class=\"data row8 col6\" >166</td>\n",
              "      <td id=\"T_74ef1_row8_col7\" class=\"data row8 col7\" >239</td>\n",
              "      <td id=\"T_74ef1_row8_col8\" class=\"data row8 col8\" >253</td>\n",
              "      <td id=\"T_74ef1_row8_col9\" class=\"data row8 col9\" >253</td>\n",
              "      <td id=\"T_74ef1_row8_col10\" class=\"data row8 col10\" >253</td>\n",
              "      <td id=\"T_74ef1_row8_col11\" class=\"data row8 col11\" >187</td>\n",
              "      <td id=\"T_74ef1_row8_col12\" class=\"data row8 col12\" >30</td>\n",
              "      <td id=\"T_74ef1_row8_col13\" class=\"data row8 col13\" >0</td>\n",
              "      <td id=\"T_74ef1_row8_col14\" class=\"data row8 col14\" >0</td>\n",
              "      <td id=\"T_74ef1_row8_col15\" class=\"data row8 col15\" >0</td>\n",
              "      <td id=\"T_74ef1_row8_col16\" class=\"data row8 col16\" >0</td>\n",
              "      <td id=\"T_74ef1_row8_col17\" class=\"data row8 col17\" >0</td>\n",
              "    </tr>\n",
              "    <tr>\n",
              "      <th id=\"T_74ef1_level0_row9\" class=\"row_heading level0 row9\" >9</th>\n",
              "      <td id=\"T_74ef1_row9_col0\" class=\"data row9 col0\" >0</td>\n",
              "      <td id=\"T_74ef1_row9_col1\" class=\"data row9 col1\" >0</td>\n",
              "      <td id=\"T_74ef1_row9_col2\" class=\"data row9 col2\" >0</td>\n",
              "      <td id=\"T_74ef1_row9_col3\" class=\"data row9 col3\" >0</td>\n",
              "      <td id=\"T_74ef1_row9_col4\" class=\"data row9 col4\" >0</td>\n",
              "      <td id=\"T_74ef1_row9_col5\" class=\"data row9 col5\" >16</td>\n",
              "      <td id=\"T_74ef1_row9_col6\" class=\"data row9 col6\" >248</td>\n",
              "      <td id=\"T_74ef1_row9_col7\" class=\"data row9 col7\" >250</td>\n",
              "      <td id=\"T_74ef1_row9_col8\" class=\"data row9 col8\" >253</td>\n",
              "      <td id=\"T_74ef1_row9_col9\" class=\"data row9 col9\" >253</td>\n",
              "      <td id=\"T_74ef1_row9_col10\" class=\"data row9 col10\" >253</td>\n",
              "      <td id=\"T_74ef1_row9_col11\" class=\"data row9 col11\" >253</td>\n",
              "      <td id=\"T_74ef1_row9_col12\" class=\"data row9 col12\" >232</td>\n",
              "      <td id=\"T_74ef1_row9_col13\" class=\"data row9 col13\" >213</td>\n",
              "      <td id=\"T_74ef1_row9_col14\" class=\"data row9 col14\" >111</td>\n",
              "      <td id=\"T_74ef1_row9_col15\" class=\"data row9 col15\" >2</td>\n",
              "      <td id=\"T_74ef1_row9_col16\" class=\"data row9 col16\" >0</td>\n",
              "      <td id=\"T_74ef1_row9_col17\" class=\"data row9 col17\" >0</td>\n",
              "    </tr>\n",
              "    <tr>\n",
              "      <th id=\"T_74ef1_level0_row10\" class=\"row_heading level0 row10\" >10</th>\n",
              "      <td id=\"T_74ef1_row10_col0\" class=\"data row10 col0\" >0</td>\n",
              "      <td id=\"T_74ef1_row10_col1\" class=\"data row10 col1\" >0</td>\n",
              "      <td id=\"T_74ef1_row10_col2\" class=\"data row10 col2\" >0</td>\n",
              "      <td id=\"T_74ef1_row10_col3\" class=\"data row10 col3\" >0</td>\n",
              "      <td id=\"T_74ef1_row10_col4\" class=\"data row10 col4\" >0</td>\n",
              "      <td id=\"T_74ef1_row10_col5\" class=\"data row10 col5\" >0</td>\n",
              "      <td id=\"T_74ef1_row10_col6\" class=\"data row10 col6\" >0</td>\n",
              "      <td id=\"T_74ef1_row10_col7\" class=\"data row10 col7\" >43</td>\n",
              "      <td id=\"T_74ef1_row10_col8\" class=\"data row10 col8\" >98</td>\n",
              "      <td id=\"T_74ef1_row10_col9\" class=\"data row10 col9\" >98</td>\n",
              "      <td id=\"T_74ef1_row10_col10\" class=\"data row10 col10\" >208</td>\n",
              "      <td id=\"T_74ef1_row10_col11\" class=\"data row10 col11\" >253</td>\n",
              "      <td id=\"T_74ef1_row10_col12\" class=\"data row10 col12\" >253</td>\n",
              "      <td id=\"T_74ef1_row10_col13\" class=\"data row10 col13\" >253</td>\n",
              "      <td id=\"T_74ef1_row10_col14\" class=\"data row10 col14\" >253</td>\n",
              "      <td id=\"T_74ef1_row10_col15\" class=\"data row10 col15\" >187</td>\n",
              "      <td id=\"T_74ef1_row10_col16\" class=\"data row10 col16\" >22</td>\n",
              "      <td id=\"T_74ef1_row10_col17\" class=\"data row10 col17\" >0</td>\n",
              "    </tr>\n",
              "  </tbody>\n",
              "</table>\n"
            ]
          },
          "metadata": {},
          "execution_count": 11
        }
      ]
    },
    {
      "cell_type": "markdown",
      "source": [
        "## First Try: Pixel Similarity\n",
        "So, here is a first idea: how about we find the average pixel value for every pixel of the 3s, then do the same for the 7s. This will give us two group averages, defining what we might call the “ideal” 3 and 7. Then, to classify an image as one digit or the other, we see which of these two ideal digits the image is most similar to. This certainly seems like it should be better than nothing, so it will make a good baseline."
      ],
      "metadata": {
        "id": "v5fu4NsJEhMr"
      }
    },
    {
      "cell_type": "code",
      "source": [
        "seven_tensors = [tensor(Image.open(o)) for o in sevens]\n",
        "three_tensors = [tensor(Image.open(o)) for o in threes]\n",
        "len(three_tensors), len(seven_tensors)"
      ],
      "metadata": {
        "colab": {
          "base_uri": "https://localhost:8080/"
        },
        "id": "GHL_QCuuEgrI",
        "outputId": "4eea2237-ef60-4498-fb2e-1ab2c005ac49"
      },
      "execution_count": 12,
      "outputs": [
        {
          "output_type": "execute_result",
          "data": {
            "text/plain": [
              "(6131, 6265)"
            ]
          },
          "metadata": {},
          "execution_count": 12
        }
      ]
    },
    {
      "cell_type": "code",
      "source": [
        "three_tensors[1]"
      ],
      "metadata": {
        "colab": {
          "base_uri": "https://localhost:8080/"
        },
        "id": "JXrqICGlFQKB",
        "outputId": "101f1961-a5f9-4c21-e32e-99b29fe98ef5"
      },
      "execution_count": 13,
      "outputs": [
        {
          "output_type": "execute_result",
          "data": {
            "text/plain": [
              "tensor([[  0,   0,   0,   0,   0,   0,   0,   0,   0,   0,   0,   0,   0,   0,\n",
              "           0,   0,   0,   0,   0,   0,   0,   0,   0,   0,   0,   0,   0,   0],\n",
              "        [  0,   0,   0,   0,   0,   0,   0,   0,   0,   0,   0,   0,   0,   0,\n",
              "           0,   0,   0,   0,   0,   0,   0,   0,   0,   0,   0,   0,   0,   0],\n",
              "        [  0,   0,   0,   0,   0,   0,   0,   0,   0,   0,   0,   0,   0,   0,\n",
              "           0,   0,   0,   0,   0,   0,   0,   0,   0,   0,   0,   0,   0,   0],\n",
              "        [  0,   0,   0,   0,   0,   0,   0,   0,   0,   0,   0,   0,   0,   0,\n",
              "           0,   0,   0,   0,   0,   0,   0,   0,   0,   0,   0,   0,   0,   0],\n",
              "        [  0,   0,   0,   0,   0,   0,   0,   0,   0,   0,   0,   0,   0,   0,\n",
              "           0,   0,   0,   0,   0,   0,   0,   0,   0,   0,   0,   0,   0,   0],\n",
              "        [  0,   0,   0,   0,   0,   0,   0,   0,   0,  29, 150, 195, 254, 255,\n",
              "         254, 176, 193, 150,  96,   0,   0,   0,   0,   0,   0,   0,   0,   0],\n",
              "        [  0,   0,   0,   0,   0,   0,   0,  48, 166, 224, 253, 253, 234, 196,\n",
              "         253, 253, 253, 253, 233,   0,   0,   0,   0,   0,   0,   0,   0,   0],\n",
              "        [  0,   0,   0,   0,   0,  93, 244, 249, 253, 187,  46,  10,   8,   4,\n",
              "          10, 194, 253, 253, 233,   0,   0,   0,   0,   0,   0,   0,   0,   0],\n",
              "        [  0,   0,   0,   0,   0, 107, 253, 253, 230,  48,   0,   0,   0,   0,\n",
              "           0, 192, 253, 253, 156,   0,   0,   0,   0,   0,   0,   0,   0,   0],\n",
              "        [  0,   0,   0,   0,   0,   3,  20,  20,  15,   0,   0,   0,   0,   0,\n",
              "          43, 224, 253, 245,  74,   0,   0,   0,   0,   0,   0,   0,   0,   0],\n",
              "        [  0,   0,   0,   0,   0,   0,   0,   0,   0,   0,   0,   0,   0,   0,\n",
              "         249, 253, 245, 126,   0,   0,   0,   0,   0,   0,   0,   0,   0,   0],\n",
              "        [  0,   0,   0,   0,   0,   0,   0,   0,   0,   0,   0,  14, 101, 223,\n",
              "         253, 248, 124,   0,   0,   0,   0,   0,   0,   0,   0,   0,   0,   0],\n",
              "        [  0,   0,   0,   0,   0,   0,   0,   0,   0,  11, 166, 239, 253, 253,\n",
              "         253, 187,  30,   0,   0,   0,   0,   0,   0,   0,   0,   0,   0,   0],\n",
              "        [  0,   0,   0,   0,   0,   0,   0,   0,   0,  16, 248, 250, 253, 253,\n",
              "         253, 253, 232, 213, 111,   2,   0,   0,   0,   0,   0,   0,   0,   0],\n",
              "        [  0,   0,   0,   0,   0,   0,   0,   0,   0,   0,   0,  43,  98,  98,\n",
              "         208, 253, 253, 253, 253, 187,  22,   0,   0,   0,   0,   0,   0,   0],\n",
              "        [  0,   0,   0,   0,   0,   0,   0,   0,   0,   0,   0,   0,   0,   0,\n",
              "           9,  51, 119, 253, 253, 253,  76,   0,   0,   0,   0,   0,   0,   0],\n",
              "        [  0,   0,   0,   0,   0,   0,   0,   0,   0,   0,   0,   0,   0,   0,\n",
              "           0,   0,   1, 183, 253, 253, 139,   0,   0,   0,   0,   0,   0,   0],\n",
              "        [  0,   0,   0,   0,   0,   0,   0,   0,   0,   0,   0,   0,   0,   0,\n",
              "           0,   0,   0, 182, 253, 253, 104,   0,   0,   0,   0,   0,   0,   0],\n",
              "        [  0,   0,   0,   0,   0,   0,   0,   0,   0,   0,   0,   0,   0,   0,\n",
              "           0,   0,  85, 249, 253, 253,  36,   0,   0,   0,   0,   0,   0,   0],\n",
              "        [  0,   0,   0,   0,   0,   0,   0,   0,   0,   0,   0,   0,   0,   0,\n",
              "           0,  60, 214, 253, 253, 173,  11,   0,   0,   0,   0,   0,   0,   0],\n",
              "        [  0,   0,   0,   0,   0,   0,   0,   0,   0,   0,   0,   0,   0,   0,\n",
              "          98, 247, 253, 253, 226,   9,   0,   0,   0,   0,   0,   0,   0,   0],\n",
              "        [  0,   0,   0,   0,   0,   0,   0,   0,   0,   0,   0,   0,  42, 150,\n",
              "         252, 253, 253, 233,  53,   0,   0,   0,   0,   0,   0,   0,   0,   0],\n",
              "        [  0,   0,   0,   0,   0,   0,  42, 115,  42,  60, 115, 159, 240, 253,\n",
              "         253, 250, 175,  25,   0,   0,   0,   0,   0,   0,   0,   0,   0,   0],\n",
              "        [  0,   0,   0,   0,   0,   0, 187, 253, 253, 253, 253, 253, 253, 253,\n",
              "         197,  86,   0,   0,   0,   0,   0,   0,   0,   0,   0,   0,   0,   0],\n",
              "        [  0,   0,   0,   0,   0,   0, 103, 253, 253, 253, 253, 253, 232,  67,\n",
              "           1,   0,   0,   0,   0,   0,   0,   0,   0,   0,   0,   0,   0,   0],\n",
              "        [  0,   0,   0,   0,   0,   0,   0,   0,   0,   0,   0,   0,   0,   0,\n",
              "           0,   0,   0,   0,   0,   0,   0,   0,   0,   0,   0,   0,   0,   0],\n",
              "        [  0,   0,   0,   0,   0,   0,   0,   0,   0,   0,   0,   0,   0,   0,\n",
              "           0,   0,   0,   0,   0,   0,   0,   0,   0,   0,   0,   0,   0,   0],\n",
              "        [  0,   0,   0,   0,   0,   0,   0,   0,   0,   0,   0,   0,   0,   0,\n",
              "           0,   0,   0,   0,   0,   0,   0,   0,   0,   0,   0,   0,   0,   0]],\n",
              "       dtype=torch.uint8)"
            ]
          },
          "metadata": {},
          "execution_count": 13
        }
      ]
    },
    {
      "cell_type": "code",
      "source": [
        "show_image(three_tensors[1])"
      ],
      "metadata": {
        "colab": {
          "base_uri": "https://localhost:8080/",
          "height": 132
        },
        "id": "ZDPZyTuiFU05",
        "outputId": "cda2a5db-7359-4496-dd18-754ad9aed783"
      },
      "execution_count": 14,
      "outputs": [
        {
          "output_type": "execute_result",
          "data": {
            "text/plain": [
              "<Axes: >"
            ]
          },
          "metadata": {},
          "execution_count": 14
        },
        {
          "output_type": "display_data",
          "data": {
            "text/plain": [
              "<Figure size 100x100 with 1 Axes>"
            ],
            "image/png": "[encoded data removed]"
          },
          "metadata": {}
        }
      ]
    },
    {
      "cell_type": "markdown",
      "source": [
        "For every pixel position, we want to compute the average over all the images of the intensity of that pixel. To do this, we first combine all the images in this list into a single three-dimensional tensor. The most common way to describe such a tensor is to call it a rank-3 tensor. We often need to stack up individual tensors in a collection into a single tensor. Unsurprisingly, PyTorch comes with a function called stack that we can use for this purpose"
      ],
      "metadata": {
        "id": "g587ZgdhF-dU"
      }
    },
    {
      "cell_type": "code",
      "source": [
        "# Generally, when images are floats, the pixel values are expected to be between 0 and 1, so we will also divide by 255 here:\n",
        "stacked_threes = torch.stack(three_tensors).float()/255\n",
        "stacked_sevens = torch.stack(seven_tensors).float()/255\n",
        "stacked_threes.shape"
      ],
      "metadata": {
        "colab": {
          "base_uri": "https://localhost:8080/"
        },
        "id": "yalSkQ5DGGpQ",
        "outputId": "b03b08ea-57ae-49f4-8c11-6dea0d0352b1"
      },
      "execution_count": 15,
      "outputs": [
        {
          "output_type": "execute_result",
          "data": {
            "text/plain": [
              "torch.Size([6131, 28, 28])"
            ]
          },
          "metadata": {},
          "execution_count": 15
        }
      ]
    },
    {
      "cell_type": "markdown",
      "source": [
        "The length of a tensor’s shape is its rank:"
      ],
      "metadata": {
        "id": "mp-UjFv2GoZM"
      }
    },
    {
      "cell_type": "code",
      "source": [
        "len(stacked_threes.shape)"
      ],
      "metadata": {
        "colab": {
          "base_uri": "https://localhost:8080/"
        },
        "id": "SINZwEdbGpOm",
        "outputId": "500a1e51-0217-4b7b-b644-f9b864aa0f11"
      },
      "execution_count": 16,
      "outputs": [
        {
          "output_type": "execute_result",
          "data": {
            "text/plain": [
              "3"
            ]
          },
          "metadata": {},
          "execution_count": 16
        }
      ]
    },
    {
      "cell_type": "markdown",
      "source": [
        "We can also get a tensor’s rank directly with ndim:"
      ],
      "metadata": {
        "id": "S4vklRjPHmls"
      }
    },
    {
      "cell_type": "code",
      "source": [
        "stacked_threes.ndim"
      ],
      "metadata": {
        "colab": {
          "base_uri": "https://localhost:8080/"
        },
        "id": "HhdDEYcNHmWY",
        "outputId": "1699b11a-5ff6-4192-a1f7-b883a817e25d"
      },
      "execution_count": 17,
      "outputs": [
        {
          "output_type": "execute_result",
          "data": {
            "text/plain": [
              "3"
            ]
          },
          "metadata": {},
          "execution_count": 17
        }
      ]
    },
    {
      "cell_type": "markdown",
      "source": [
        "Finally, we can compute what the ideal 3 looks like. We calculate the mean of all the image tensors by taking the mean along dimension 0 of our stacked, rank-3 tensor. This is the dimension that indexes over all the images.\n",
        "\n",
        "In other words, for every pixel position, this will compute the average of that pixel over all images. The result will be one value for every pixel position, or a single image. Here it is:"
      ],
      "metadata": {
        "id": "M4AWItX2IOBd"
      }
    },
    {
      "cell_type": "code",
      "source": [
        "mean3 = stacked_threes.mean(0)\n",
        "show_image(mean3) # according to this dataset, this is the ideal number 3!"
      ],
      "metadata": {
        "colab": {
          "base_uri": "https://localhost:8080/",
          "height": 132
        },
        "id": "cags4EAQIPpy",
        "outputId": "dd518e7d-230e-4d12-f39a-db8af19c7681"
      },
      "execution_count": 18,
      "outputs": [
        {
          "output_type": "execute_result",
          "data": {
            "text/plain": [
              "<Axes: >"
            ]
          },
          "metadata": {},
          "execution_count": 18
        },
        {
          "output_type": "display_data",
          "data": {
            "text/plain": [
              "<Figure size 100x100 with 1 Axes>"
            ],
            "image/png": "[encoded data removed]"
          },
          "metadata": {}
        }
      ]
    },
    {
      "cell_type": "code",
      "source": [
        "mean7 = stacked_sevens.mean(0)\n",
        "show_image(mean7);"
      ],
      "metadata": {
        "colab": {
          "base_uri": "https://localhost:8080/",
          "height": 114
        },
        "id": "6GqkG7ELIbwU",
        "outputId": "d8d6a0ea-0eef-4941-f34c-c8217a9c92d4"
      },
      "execution_count": 19,
      "outputs": [
        {
          "output_type": "display_data",
          "data": {
            "text/plain": [
              "<Figure size 100x100 with 1 Axes>"
            ],
            "image/png": "[encoded data removed]"
          },
          "metadata": {}
        }
      ]
    },
    {
      "cell_type": "markdown",
      "source": [
        "Let’s now pick an arbitrary 3 and measure its distance from our “ideal digits.”"
      ],
      "metadata": {
        "id": "2dtwa0UPImBp"
      }
    },
    {
      "cell_type": "code",
      "source": [
        "a_3 = stacked_threes[1]\n",
        "show_image(a_3)"
      ],
      "metadata": {
        "colab": {
          "base_uri": "https://localhost:8080/",
          "height": 132
        },
        "id": "EXHDidOjIuvI",
        "outputId": "7760d7da-e8a5-47c5-cb08-da896b56fd3b"
      },
      "execution_count": 20,
      "outputs": [
        {
          "output_type": "execute_result",
          "data": {
            "text/plain": [
              "<Axes: >"
            ]
          },
          "metadata": {},
          "execution_count": 20
        },
        {
          "output_type": "display_data",
          "data": {
            "text/plain": [
              "<Figure size 100x100 with 1 Axes>"
            ],
            "image/png": "[encoded data removed]"
          },
          "metadata": {}
        }
      ]
    },
    {
      "cell_type": "markdown",
      "source": [
        "Two main ways to measure distance in this context:\n",
        "- L1 norm (mean absolute difference): take the mean of the absolute value of differences\n",
        "- L2 norm (root mean squared error (RMSE)): take the mean of the square of differences then take the square root (to undo the squaring)\n",
        "\n",
        "Let's try both the methods:"
      ],
      "metadata": {
        "id": "isJc71IwI_JW"
      }
    },
    {
      "cell_type": "code",
      "source": [
        "dist_3_abs = (a_3 - mean3).abs().mean()\n",
        "dist_3_sqr = ((a_3 - mean3) ** 2).mean().sqrt()\n",
        "dist_3_abs, dist_3_sqr"
      ],
      "metadata": {
        "colab": {
          "base_uri": "https://localhost:8080/"
        },
        "id": "R0U9XX9xJx34",
        "outputId": "51ca42c0-53ec-4994-a3ae-c5f1a94499a8"
      },
      "execution_count": 21,
      "outputs": [
        {
          "output_type": "execute_result",
          "data": {
            "text/plain": [
              "(tensor(0.1114), tensor(0.2021))"
            ]
          },
          "metadata": {},
          "execution_count": 21
        }
      ]
    },
    {
      "cell_type": "code",
      "source": [
        "dist_7_abs = (a_3 - mean7).abs().mean()\n",
        "dist_7_sqr = ((a_3 - mean7)**2).mean().sqrt()\n",
        "dist_7_abs,dist_7_sqr"
      ],
      "metadata": {
        "colab": {
          "base_uri": "https://localhost:8080/"
        },
        "id": "6IuBArKgK05S",
        "outputId": "f3230442-49a4-4f0e-de11-afb617154eb2"
      },
      "execution_count": 22,
      "outputs": [
        {
          "output_type": "execute_result",
          "data": {
            "text/plain": [
              "(tensor(0.1586), tensor(0.3021))"
            ]
          },
          "metadata": {},
          "execution_count": 22
        }
      ]
    },
    {
      "cell_type": "markdown",
      "source": [
        "In both cases, the distance between our 3 and the “ideal” 3 is less than the distance to the ideal 7, so our simple model will give the right prediction in this case."
      ],
      "metadata": {
        "id": "NeIDeC2WLFYz"
      }
    },
    {
      "cell_type": "markdown",
      "source": [
        "PyTorch already provides both of these as loss functions. You’ll find these inside torch.nn.functional, which the PyTorch team recommends importing as F (and is available by default under that name in fastai):"
      ],
      "metadata": {
        "id": "y0tCQS-zLygi"
      }
    },
    {
      "cell_type": "code",
      "source": [
        "F.l1_loss(a_3.float(), mean7), F.mse_loss(a_3, mean7).sqrt() # mse = mean squared error, l1 refers to the standard mathematical jargon for mean absolute value"
      ],
      "metadata": {
        "colab": {
          "base_uri": "https://localhost:8080/"
        },
        "id": "Q6-CaYZILzbk",
        "outputId": "e99130ec-0464-452c-e3b2-81e6eb7e4f73"
      },
      "execution_count": 23,
      "outputs": [
        {
          "output_type": "execute_result",
          "data": {
            "text/plain": [
              "(tensor(0.1586), tensor(0.3021))"
            ]
          },
          "metadata": {},
          "execution_count": 23
        }
      ]
    },
    {
      "cell_type": "markdown",
      "source": [
        "## Quick Numpy Array and PyTorch Tensor Tutorial"
      ],
      "metadata": {
        "id": "nYSnNer5SB4K"
      }
    },
    {
      "cell_type": "code",
      "source": [
        "data = [[1, 2, 3], [4, 5, 6]]\n",
        "arr = array(data)\n",
        "tns = tensor(data)\n",
        "arr, tns"
      ],
      "metadata": {
        "colab": {
          "base_uri": "https://localhost:8080/"
        },
        "id": "blBjJz3iSIx_",
        "outputId": "f3ee5468-7bc6-4f7d-d295-7394a21a926a"
      },
      "execution_count": 24,
      "outputs": [
        {
          "output_type": "execute_result",
          "data": {
            "text/plain": [
              "(array([[1, 2, 3],\n",
              "        [4, 5, 6]]),\n",
              " tensor([[1, 2, 3],\n",
              "         [4, 5, 6]]))"
            ]
          },
          "metadata": {},
          "execution_count": 24
        }
      ]
    },
    {
      "cell_type": "markdown",
      "source": [
        "All the operations that follow are shown on tensors, but the syntax and results for NumPy arrays are identical.\n",
        "You can select a row (note that, like lists in Python, tensors are 0-indexed, so 1 refers to the second row/column):"
      ],
      "metadata": {
        "id": "hQnQ0VgwSkfN"
      }
    },
    {
      "cell_type": "code",
      "source": [
        "tns[1]"
      ],
      "metadata": {
        "colab": {
          "base_uri": "https://localhost:8080/"
        },
        "id": "U7tYdkWsSlgS",
        "outputId": "d7ddf0e0-ef93-4097-e060-002288c8e653"
      },
      "execution_count": 25,
      "outputs": [
        {
          "output_type": "execute_result",
          "data": {
            "text/plain": [
              "tensor([4, 5, 6])"
            ]
          },
          "metadata": {},
          "execution_count": 25
        }
      ]
    },
    {
      "cell_type": "markdown",
      "source": [
        "Or a column, by using : to indicate all of the first axis (we sometimes refer to the dimensions of tensors/arrays as axes):"
      ],
      "metadata": {
        "id": "10Rji2tuSpZz"
      }
    },
    {
      "cell_type": "code",
      "source": [
        "tns[:, 1] # : means selecting all rows, and the second column"
      ],
      "metadata": {
        "colab": {
          "base_uri": "https://localhost:8080/"
        },
        "id": "YBENLLKTS0HZ",
        "outputId": "1d7076eb-bcb3-4848-efdd-23c9f754ed5e"
      },
      "execution_count": 26,
      "outputs": [
        {
          "output_type": "execute_result",
          "data": {
            "text/plain": [
              "tensor([2, 5])"
            ]
          },
          "metadata": {},
          "execution_count": 26
        }
      ]
    },
    {
      "cell_type": "code",
      "source": [
        "tns[:, :2] # select the first 2 columns of all rows"
      ],
      "metadata": {
        "colab": {
          "base_uri": "https://localhost:8080/"
        },
        "id": "noURvFkBTpT8",
        "outputId": "a902580c-5693-41c4-c5a6-7bb84122a651"
      },
      "execution_count": 27,
      "outputs": [
        {
          "output_type": "execute_result",
          "data": {
            "text/plain": [
              "tensor([[1, 2],\n",
              "        [4, 5]])"
            ]
          },
          "metadata": {},
          "execution_count": 27
        }
      ]
    },
    {
      "cell_type": "code",
      "source": [
        "tns[1, 1:3]"
      ],
      "metadata": {
        "colab": {
          "base_uri": "https://localhost:8080/"
        },
        "id": "4nY4yOzrTpKM",
        "outputId": "4166b8e1-d5f8-43d6-f9f5-19183e9b566c"
      },
      "execution_count": 28,
      "outputs": [
        {
          "output_type": "execute_result",
          "data": {
            "text/plain": [
              "tensor([5, 6])"
            ]
          },
          "metadata": {},
          "execution_count": 28
        }
      ]
    },
    {
      "cell_type": "markdown",
      "source": [
        "And you can use the standard operators, such as +, -, *, and /:"
      ],
      "metadata": {
        "id": "Zb99b6yZVeO6"
      }
    },
    {
      "cell_type": "code",
      "source": [
        "tns + 1"
      ],
      "metadata": {
        "colab": {
          "base_uri": "https://localhost:8080/"
        },
        "id": "mndUQA0JVe8g",
        "outputId": "5715e885-665d-4e2a-94ef-524eef04e176"
      },
      "execution_count": 29,
      "outputs": [
        {
          "output_type": "execute_result",
          "data": {
            "text/plain": [
              "tensor([[2, 3, 4],\n",
              "        [5, 6, 7]])"
            ]
          },
          "metadata": {},
          "execution_count": 29
        }
      ]
    },
    {
      "cell_type": "markdown",
      "source": [
        "Tensors have a type:"
      ],
      "metadata": {
        "id": "Xq4Y93qNV1kd"
      }
    },
    {
      "cell_type": "code",
      "source": [
        "tns.type()"
      ],
      "metadata": {
        "colab": {
          "base_uri": "https://localhost:8080/",
          "height": 36
        },
        "id": "IuzZzsJLV2NE",
        "outputId": "ad05cd2e-08cf-40cd-b9eb-546bda7f5840"
      },
      "execution_count": 30,
      "outputs": [
        {
          "output_type": "execute_result",
          "data": {
            "text/plain": [
              "'torch.LongTensor'"
            ],
            "application/vnd.google.colaboratory.intrinsic+json": {
              "type": "string"
            }
          },
          "metadata": {},
          "execution_count": 30
        }
      ]
    },
    {
      "cell_type": "markdown",
      "source": [
        "And will automatically change that type as needed; for example, from int to float:"
      ],
      "metadata": {
        "id": "sDC9ykJyV5sF"
      }
    },
    {
      "cell_type": "code",
      "source": [
        "tns * 1.5"
      ],
      "metadata": {
        "colab": {
          "base_uri": "https://localhost:8080/"
        },
        "id": "RiHBuniTV75n",
        "outputId": "32504147-9d86-4c74-f425-d1556c06bccc"
      },
      "execution_count": 31,
      "outputs": [
        {
          "output_type": "execute_result",
          "data": {
            "text/plain": [
              "tensor([[1.5000, 3.0000, 4.5000],\n",
              "        [6.0000, 7.5000, 9.0000]])"
            ]
          },
          "metadata": {},
          "execution_count": 31
        }
      ]
    },
    {
      "cell_type": "markdown",
      "source": [
        "## Computing Metrics Using Broadcasting\n",
        "So, is our baseline any good?"
      ],
      "metadata": {
        "id": "vfiSbyVeWHml"
      }
    },
    {
      "cell_type": "markdown",
      "source": [
        "So to start, let’s create tensors for our 3s and 7s from the validation data directory. These are the tensors we will use to calculate a metric measuring the quality of our first-try model, which measures distance from an ideal image"
      ],
      "metadata": {
        "id": "e76FKLpSaUge"
      }
    },
    {
      "cell_type": "code",
      "source": [
        "valid_3_tens = torch.stack([tensor(Image.open(o)) for o in (path/'valid'/'3').ls()])\n",
        "valid_3_tens = valid_3_tens.float()/255\n",
        "valid_7_tens = torch.stack([tensor(Image.open(o)) for o in (path/'valid'/'7').ls()])\n",
        "valid_7_tens = valid_7_tens.float()/255\n",
        "valid_3_tens.shape, valid_7_tens.shape"
      ],
      "metadata": {
        "colab": {
          "base_uri": "https://localhost:8080/"
        },
        "id": "0_3GNY67WRKY",
        "outputId": "710d3450-e666-4f47-ce9b-91a7498d321c"
      },
      "execution_count": 32,
      "outputs": [
        {
          "output_type": "execute_result",
          "data": {
            "text/plain": [
              "(torch.Size([1010, 28, 28]), torch.Size([1028, 28, 28]))"
            ]
          },
          "metadata": {},
          "execution_count": 32
        }
      ]
    },
    {
      "cell_type": "markdown",
      "source": [
        "We ultimately want to write a function, is_3, that will decide whether an arbitrary image is a 3 or a 7. It will do this by deciding which of our two “ideal digits” that arbi‐ trary image is closer to. For that we need to define a notion of distance—that is, a function that calculates the distance between two images.\n",
        "\n",
        "We can write a simple function that calculates the mean absolute error using an expression very similar to the one we wrote in the last section:"
      ],
      "metadata": {
        "id": "tXS2eLgpcUTI"
      }
    },
    {
      "cell_type": "code",
      "source": [
        "def mnist_distance(a, b): return (a - b).abs().mean((-1, -2)) # The tuple (-1,-2) represents a range of axes.\n",
        "mnist_distance(a_3, mean3)"
      ],
      "metadata": {
        "colab": {
          "base_uri": "https://localhost:8080/"
        },
        "id": "XJp3npcJcVnW",
        "outputId": "b8c233a0-5ac6-4c5a-b207-ccaa24d403a1"
      },
      "execution_count": 33,
      "outputs": [
        {
          "output_type": "execute_result",
          "data": {
            "text/plain": [
              "tensor(0.1114)"
            ]
          },
          "metadata": {},
          "execution_count": 33
        }
      ]
    },
    {
      "cell_type": "markdown",
      "source": [
        "But to calculate a metric for overall accuracy, we will need to calculate the distance to the ideal 3 for every image in the validation set. How do we do that calculation? We could write a loop over all of the single-image tensors that are stacked within our validation set tensor, valid_3_tens, which has a shape of [1010,28,28] representing 1,010 images.\n",
        "But there is a better way.\n",
        "\n",
        "Something interesting happens when we take this exact same distance function, designed for comparing two single images, but pass in as an argument valid_3_tens, the tensor that represents the 3s validation set"
      ],
      "metadata": {
        "id": "asUIfkdVmPAb"
      }
    },
    {
      "cell_type": "code",
      "source": [
        "valid_3_dist = mnist_distance(valid_3_tens, mean3)\n",
        "valid_3_dist, valid_3_dist.shape"
      ],
      "metadata": {
        "colab": {
          "base_uri": "https://localhost:8080/"
        },
        "id": "9NWhylWomTqK",
        "outputId": "9f488841-1e89-4353-da92-8b8c80114aed"
      },
      "execution_count": 34,
      "outputs": [
        {
          "output_type": "execute_result",
          "data": {
            "text/plain": [
              "(tensor([0.1183, 0.1569, 0.1464,  ..., 0.1540, 0.1360, 0.1305]),\n",
              " torch.Size([1010]))"
            ]
          },
          "metadata": {},
          "execution_count": 34
        }
      ]
    },
    {
      "cell_type": "markdown",
      "source": [
        "Instead of complaining about shapes not matching, it returned the distance for every single image as a vector (i.e., a rank-1 tensor) of length 1,010 (the number of 3s in our validation set). How did that happen?\n",
        "\n",
        "Take another look at our function mnist_distance, and you’ll see we have there the subtraction (a-b). The magic trick is that PyTorch, when it tries to perform a simple subtraction operation between two tensors of different ranks, will use broadcasting: it will automatically expand the tensor with the smaller rank to have the same size as the one with the larger rank. Broadcasting is an important capability that makes ten‐ sor code much easier to write.\n",
        "\n",
        "Finally, our function calls mean((-1,-2)). The tuple (-1,-2) represents a range of axes. In Python, -1 refers to the last element, and -2 refers to the second-to-last. So in this case, this tells PyTorch that we want to take the mean ranging over the values indexed by the last two axes of the tensor. The last two axes are the horizontal and vertical dimensions of an image. After taking the mean over the last two axes, we are left with just the first tensor axis, which indexes over our images, which is why our final size was (1010). In other words, for every image, we averaged the intensity of all the pixels in that image."
      ],
      "metadata": {
        "id": "Y7V1NW6gnbaf"
      }
    },
    {
      "cell_type": "markdown",
      "source": [
        "## Is 3\n",
        "\n",
        "We can use mnist_distance to figure out whether an image is a 3 by using the following logic: if the distance between the digit in question and the ideal 3 is less than the distance to the ideal 7, then it’s a 3. This function will automatically do broadcasting and be applied elementwise, just like all PyTorch functions and operators:"
      ],
      "metadata": {
        "id": "I-m-2koxui4a"
      }
    },
    {
      "cell_type": "code",
      "source": [
        "def is_3(x): return mnist_distance(x, mean3) < mnist_distance(x, mean7)"
      ],
      "metadata": {
        "id": "wVv_WNB_upG4"
      },
      "execution_count": 35,
      "outputs": []
    },
    {
      "cell_type": "markdown",
      "source": [
        "Let's test it on our example case:"
      ],
      "metadata": {
        "id": "rUa7bv3IuxdJ"
      }
    },
    {
      "cell_type": "code",
      "source": [
        "is_3(a_3), is_3(a_3).float()"
      ],
      "metadata": {
        "colab": {
          "base_uri": "https://localhost:8080/"
        },
        "id": "XUWL0yhUu1Il",
        "outputId": "88688b1e-63fb-4062-9249-3a8c7c3e40ea"
      },
      "execution_count": 36,
      "outputs": [
        {
          "output_type": "execute_result",
          "data": {
            "text/plain": [
              "(tensor(True), tensor(1.))"
            ]
          },
          "metadata": {},
          "execution_count": 36
        }
      ]
    },
    {
      "cell_type": "markdown",
      "source": [
        "Thanks to broadcasting, we can also test it on the full validation set of 3s:"
      ],
      "metadata": {
        "id": "oU-0CXcXy1mQ"
      }
    },
    {
      "cell_type": "code",
      "source": [
        "is_3(valid_3_tens)"
      ],
      "metadata": {
        "colab": {
          "base_uri": "https://localhost:8080/"
        },
        "id": "Wv5OoNXry1S9",
        "outputId": "aaf41f74-85d2-49f3-e639-dafe1cb74116"
      },
      "execution_count": 37,
      "outputs": [
        {
          "output_type": "execute_result",
          "data": {
            "text/plain": [
              "tensor([True, True, True,  ..., True, True, True])"
            ]
          },
          "metadata": {},
          "execution_count": 37
        }
      ]
    },
    {
      "cell_type": "markdown",
      "source": [
        "Now we can calculate the accuracy for each of the 3s and 7s, by taking the average of that function for all 3s and its inverse for all 7s:"
      ],
      "metadata": {
        "id": "I5iBliVqKw2Y"
      }
    },
    {
      "cell_type": "code",
      "source": [
        "accuracy_3s =      is_3(valid_3_tens).float() .mean()\n",
        "accuracy_7s = (1 - is_3(valid_7_tens).float()).mean()\n",
        "accuracy_3s,accuracy_7s,(accuracy_3s+accuracy_7s)/2"
      ],
      "metadata": {
        "colab": {
          "base_uri": "https://localhost:8080/"
        },
        "id": "oh1GTxpTK0MM",
        "outputId": "635994ac-3639-40bb-9265-0c92d1403920"
      },
      "execution_count": 38,
      "outputs": [
        {
          "output_type": "execute_result",
          "data": {
            "text/plain": [
              "(tensor(0.9168), tensor(0.9854), tensor(0.9511))"
            ]
          },
          "metadata": {},
          "execution_count": 38
        }
      ]
    },
    {
      "cell_type": "markdown",
      "source": [
        "# Stochastic Gradient Descent\n",
        "Here are the steps required to turn this function into a machine learning classifier:\n",
        "1. Initialize the weights.\n",
        "2. For each image, use these weights to predict whether it appears to be a 3 or a 7.\n",
        "3. Based on these predictions, calculate how good the model is (its loss).\n",
        "4. Calculate the gradient, which measures for each weight how changing that weight would change the loss.\n",
        "5. Step (that is, change) all the weights based on that calculation.\n",
        "6. Go back to step 2 and repeat the process.\n",
        "7. Iterate until you decide to stop the training process (for instance, because the model is good enough or you don’t want to wait any longer)."
      ],
      "metadata": {
        "id": "cEoVPiofDygU"
      }
    },
    {
      "cell_type": "markdown",
      "source": [
        "## Calculating Gradients\n",
        "\n",
        "The gradients will tell us how much we have to change each weight to make our model better.\n",
        "\n",
        "You may remember from your high school calculus class that the derivative of a function tells you how much a change in its parameters will change its result.\n",
        "\n",
        "The key point about a derivative is this: for any function, such as the quadratic function we saw in the previous section, we can calculate its derivative. The derivative is another function. It calculates the change, rather than the value. When we know how our function will change, we know what we need to do to make it smaller. This is the key to machine learning: having a way to change the parameters of a function to make it smaller.\n",
        "\n",
        "One important thing to be aware of is that our function has lots of weights that we need to adjust, so when we calculate the derivative, we won’t get back one number, but lots of them—a gradient for every weight. But there is nothing mathematically tricky here; you can calculate the derivative with respect to one weight and treat all the other ones as constant, and then repeat that for each other weight. This is how all of the gradients are calculated, for every weight.\n",
        "\n",
        "PyTorch is able to automatically compute the derivative of nearly any function! What’s more, it does it very fast. Most of the time, it will be at least as fast as any derivative function that you can create by hand. Let’s see an example.\n",
        "\n",
        "First, let’s pick a tensor value at which we want gradients:"
      ],
      "metadata": {
        "id": "YWqS8DXrEC_B"
      }
    },
    {
      "cell_type": "code",
      "source": [
        "xt = tensor(3.).requires_grad_()\n",
        "xt"
      ],
      "metadata": {
        "colab": {
          "base_uri": "https://localhost:8080/"
        },
        "id": "Eb9H2rvLDyJJ",
        "outputId": "9eb1eef2-fb17-49da-8ee5-bc6eddd9849a"
      },
      "execution_count": 39,
      "outputs": [
        {
          "output_type": "execute_result",
          "data": {
            "text/plain": [
              "tensor(3., requires_grad=True)"
            ]
          },
          "metadata": {},
          "execution_count": 39
        }
      ]
    },
    {
      "cell_type": "code",
      "source": [
        "def f(x): return x**2\n",
        "\n",
        "yt = f(xt)\n",
        "yt"
      ],
      "metadata": {
        "colab": {
          "base_uri": "https://localhost:8080/"
        },
        "id": "T9-7VJIqIMwk",
        "outputId": "125e10ea-a046-40e3-d162-08b41b91b601"
      },
      "execution_count": 40,
      "outputs": [
        {
          "output_type": "execute_result",
          "data": {
            "text/plain": [
              "tensor(9., grad_fn=<PowBackward0>)"
            ]
          },
          "metadata": {},
          "execution_count": 40
        }
      ]
    },
    {
      "cell_type": "code",
      "source": [
        "yt.backward()"
      ],
      "metadata": {
        "id": "9zO1IhxHOmwu"
      },
      "execution_count": 41,
      "outputs": []
    },
    {
      "cell_type": "markdown",
      "source": [
        "The “backward” here refers to backpropagation, which is the name given to the process of calculating the derivative of each layer.\n",
        "\n",
        "Life would probably be easier if backward was just called calculate_grad, but deep learning folks really do like to add jargon everywhere they can!"
      ],
      "metadata": {
        "id": "zv3tz50ZO6hW"
      }
    },
    {
      "cell_type": "markdown",
      "source": [
        "We can now view the gradients by checking the grad attribute of our tensor:"
      ],
      "metadata": {
        "id": "QR-_ElvCPEKP"
      }
    },
    {
      "cell_type": "code",
      "source": [
        "xt.grad"
      ],
      "metadata": {
        "colab": {
          "base_uri": "https://localhost:8080/"
        },
        "id": "qZBdQV2lPE7-",
        "outputId": "2eddb8ce-d0ef-46a5-c4ff-2c4774729ed4"
      },
      "execution_count": 42,
      "outputs": [
        {
          "output_type": "execute_result",
          "data": {
            "text/plain": [
              "tensor(6.)"
            ]
          },
          "metadata": {},
          "execution_count": 42
        }
      ]
    },
    {
      "cell_type": "markdown",
      "source": [
        "If you remember your high school calculus rules, the derivative of x**2 is 2*x, and we\n",
        "have x=3, so the gradients should be 2*3=6, which is what PyTorch calculated for us!\n",
        "\n",
        "Now we’ll repeat the preceding steps, but with a vector argument for our function:"
      ],
      "metadata": {
        "id": "DHnBXRmJPNhy"
      }
    },
    {
      "cell_type": "code",
      "source": [
        "xt = tensor([3.,4.,10.]).requires_grad_()\n",
        "xt"
      ],
      "metadata": {
        "colab": {
          "base_uri": "https://localhost:8080/"
        },
        "id": "qjGi_nnUPTUU",
        "outputId": "132d6dea-bd40-4aed-b851-5d4f4b180443"
      },
      "execution_count": 43,
      "outputs": [
        {
          "output_type": "execute_result",
          "data": {
            "text/plain": [
              "tensor([ 3.,  4., 10.], requires_grad=True)"
            ]
          },
          "metadata": {},
          "execution_count": 43
        }
      ]
    },
    {
      "cell_type": "markdown",
      "source": [
        "And we’ll add sum to our function so it can take a vector (i.e., a rank-1 tensor) and\n",
        "return a scalar (i.e., a rank-0 tensor):"
      ],
      "metadata": {
        "id": "ZyZTqAFZPaXW"
      }
    },
    {
      "cell_type": "code",
      "source": [
        "def f(x): return (x**2).sum()\n",
        "\n",
        "yt = f(xt)\n",
        "yt"
      ],
      "metadata": {
        "colab": {
          "base_uri": "https://localhost:8080/"
        },
        "id": "bTcyALRMPcG1",
        "outputId": "11b0687e-0cc8-4bc4-8448-13ed0fea1497"
      },
      "execution_count": 44,
      "outputs": [
        {
          "output_type": "execute_result",
          "data": {
            "text/plain": [
              "tensor(125., grad_fn=<SumBackward0>)"
            ]
          },
          "metadata": {},
          "execution_count": 44
        }
      ]
    },
    {
      "cell_type": "markdown",
      "source": [
        "Our gradients are 2*xt, as we’d expect!"
      ],
      "metadata": {
        "id": "4m1nepfvPo-X"
      }
    },
    {
      "cell_type": "code",
      "source": [
        "yt.backward()\n",
        "xt.grad"
      ],
      "metadata": {
        "colab": {
          "base_uri": "https://localhost:8080/"
        },
        "id": "NOLNbPc7Pqrd",
        "outputId": "dfb0d7b1-017f-439a-b416-1e195c9bdcec"
      },
      "execution_count": 45,
      "outputs": [
        {
          "output_type": "execute_result",
          "data": {
            "text/plain": [
              "tensor([ 6.,  8., 20.])"
            ]
          },
          "metadata": {},
          "execution_count": 45
        }
      ]
    },
    {
      "cell_type": "markdown",
      "source": [
        "The gradients tell us only the slope of our function; they don’t tell us exactly how far to adjust the parameters. But they do give us some idea of how far: if the slope is very large, that may suggest that we have more adjustments to do, whereas if the slope is very small, that may suggest that we are close to the optimal value."
      ],
      "metadata": {
        "id": "grldD2wNQYbK"
      }
    },
    {
      "cell_type": "markdown",
      "source": [
        "## Stepping with a Learning Rate\n",
        "\n",
        "Deciding how to change our parameters based on the values of the gradients is an important part of the deep learning process. Nearly all approaches start with the basic idea of multiplying the gradient by some small number, called the learning rate (LR). The learning rate is often a number between 0.001 and 0.1, although it could be any‐ thing. Often people select a learning rate just by trying a few, and finding which results in the best model after training\n",
        "\n",
        "Once you’ve picked a learning rate, you can adjust your parameters using this simple function:\n",
        "```\n",
        "w -= w.grad * lr\n",
        "```"
      ],
      "metadata": {
        "id": "fOZ8g_jjUdMC"
      }
    },
    {
      "cell_type": "markdown",
      "source": [
        "## An End-to-End SGD Example\n",
        "\n",
        "Let’s start with a simple, synthetic example model. Imagine you were measuring the speed of a roller coaster as it went over the top of a hump. It would start fast, and then get slower as it went up the hill; it would be slowest at the top, and it would then speed up again as it went downhill. You want to build a model of how the speed changes over time. If you were measuring the speed manually every second for 20 seconds, it might look something like this:"
      ],
      "metadata": {
        "id": "b4QpcwznW1Xc"
      }
    },
    {
      "cell_type": "code",
      "source": [
        "time = torch.arange(0,20).float()\n",
        "time"
      ],
      "metadata": {
        "colab": {
          "base_uri": "https://localhost:8080/"
        },
        "id": "1yc72l_SPzJ4",
        "outputId": "f1b23cc0-1be0-4240-d0d9-52a7ef7e75e3"
      },
      "execution_count": 46,
      "outputs": [
        {
          "output_type": "execute_result",
          "data": {
            "text/plain": [
              "tensor([ 0.,  1.,  2.,  3.,  4.,  5.,  6.,  7.,  8.,  9., 10., 11., 12., 13.,\n",
              "        14., 15., 16., 17., 18., 19.])"
            ]
          },
          "metadata": {},
          "execution_count": 46
        }
      ]
    },
    {
      "cell_type": "code",
      "source": [
        "speed = torch.randn(20)*3 + 0.75*(time-9.5)**2 + 1\n",
        "plt.scatter(time, speed)"
      ],
      "metadata": {
        "colab": {
          "base_uri": "https://localhost:8080/",
          "height": 449
        },
        "id": "tHrgOIAQhZjd",
        "outputId": "ee4dd17a-88f2-4621-a965-0b235298fbb5"
      },
      "execution_count": 47,
      "outputs": [
        {
          "output_type": "execute_result",
          "data": {
            "text/plain": [
              "<matplotlib.collections.PathCollection at 0x7af266e141f0>"
            ]
          },
          "metadata": {},
          "execution_count": 47
        },
        {
          "output_type": "display_data",
          "data": {
            "text/plain": [
              "<Figure size 640x480 with 1 Axes>"
            ],
            "image/png": "[encoded data removed]"
          },
          "metadata": {}
        }
      ]
    },
    {
      "cell_type": "markdown",
      "source": [
        "\n",
        "We’ve added a bit of random noise, since measuring things manually isn’t precise. This means it’s not that easy to answer the question: what was the roller coaster’s speed? Using SGD, we can try to find a function that matches our observations. We can’t consider every possible function, so let’s use a guess that it will be quadratic; i.e., a function of the form `a*(time**2)+(b*time)+c`."
      ],
      "metadata": {
        "id": "_FymKMThhue1"
      }
    },
    {
      "cell_type": "code",
      "source": [
        "def f(t, params):\n",
        "  a, b, c = params\n",
        "  return a*(t**2) + (b*t) + c"
      ],
      "metadata": {
        "id": "JGPi3mfLmBhX"
      },
      "execution_count": 48,
      "outputs": []
    },
    {
      "cell_type": "markdown",
      "source": [
        "In other words, we’ve restricted the problem of finding the best imaginable function that fits the data to finding the best quadratic function. This greatly simplifies the problem, since every quadratic function is fully defined by the three parameters a, b, and c. Thus, to find the best quadratic function, we need to find only the best values for a, b, and c.\n",
        "\n",
        "If we can solve this problem for the three parameters of a quadratic function, we’ll be able to apply the same approach for other, more complex functions with more parameters—such as a neural net. Let’s find the parameters for f first, and then we’ll come back and do the same thing for the MNIST dataset with a neural net."
      ],
      "metadata": {
        "id": "iZ2LUFitq5lO"
      }
    },
    {
      "cell_type": "markdown",
      "source": [
        "We need to define first what we mean by “best.” We define this precisely by choosing a loss function, which will return a value based on a prediction and a target, where lower values of the function correspond to “better” predictions. For continuous data, it’s common to use mean squared error:"
      ],
      "metadata": {
        "id": "VKvpjIvdrAlz"
      }
    },
    {
      "cell_type": "code",
      "source": [
        "def mse(preds, targets): return ((preds-targets)**2).mean()"
      ],
      "metadata": {
        "id": "YFCyU7jfrGNL"
      },
      "execution_count": 49,
      "outputs": []
    },
    {
      "cell_type": "markdown",
      "source": [
        "Now, let's work through our seven-steps process."
      ],
      "metadata": {
        "id": "vlrCV1yUrRBi"
      }
    },
    {
      "cell_type": "code",
      "source": [
        "# Step 1\n",
        "# First, we initialize the parameters to random values and tell PyTorch that we want to track their gradients using requires_grad_:\n",
        "params = torch.randn(3).requires_grad_()\n",
        "\n",
        "# Step 2: Calculate the prediction\n",
        "preds = f(time, params)\n",
        "\n",
        "# Let’s create a little function to see how close our predictions are to our targets, and take a look:\n",
        "def show_preds(preds, ax=None):\n",
        "  if ax is None: ax=plt.subplots()[1]\n",
        "  ax.scatter(time, speed)\n",
        "  ax.scatter(time, to_np(preds), color=\"red\")\n",
        "  ax.set_ylim(-300, 100)\n",
        "\n",
        "show_preds(preds)"
      ],
      "metadata": {
        "colab": {
          "base_uri": "https://localhost:8080/",
          "height": 435
        },
        "id": "TQmzaUSmrVuq",
        "outputId": "1a2f56ca-d2a8-4c79-c891-2548674720dd"
      },
      "execution_count": 50,
      "outputs": [
        {
          "output_type": "display_data",
          "data": {
            "text/plain": [
              "<Figure size 640x480 with 1 Axes>"
            ],
            "image/png": "[encoded data removed]"
          },
          "metadata": {}
        }
      ]
    },
    {
      "cell_type": "code",
      "source": [
        "# Step 3: Calculate the loss\n",
        "# We calculate the loss as follows:\n",
        "loss = mse(preds, speed)\n",
        "loss"
      ],
      "metadata": {
        "colab": {
          "base_uri": "https://localhost:8080/"
        },
        "id": "6L-bbEjStvY2",
        "outputId": "61fe1bfa-2fd5-4453-bde8-afdf6c2d83a4"
      },
      "execution_count": 51,
      "outputs": [
        {
          "output_type": "execute_result",
          "data": {
            "text/plain": [
              "tensor(721.3581, grad_fn=<MeanBackward0>)"
            ]
          },
          "metadata": {},
          "execution_count": 51
        }
      ]
    },
    {
      "cell_type": "code",
      "source": [
        "# Step 4: Calculate the gradients\n",
        "# The next step is to calculate the gradients, or an approximation of how the parameters need to change:\n",
        "loss.backward()\n",
        "params.grad"
      ],
      "metadata": {
        "colab": {
          "base_uri": "https://localhost:8080/"
        },
        "id": "-tJSc2Ntt2Sb",
        "outputId": "910cfb9f-f25e-4d0b-88e5-077e1c994706"
      },
      "execution_count": 52,
      "outputs": [
        {
          "output_type": "execute_result",
          "data": {
            "text/plain": [
              "tensor([1636.9978,  123.1542,   -8.2248])"
            ]
          },
          "metadata": {},
          "execution_count": 52
        }
      ]
    },
    {
      "cell_type": "code",
      "source": [
        "params.grad * 1e-5"
      ],
      "metadata": {
        "colab": {
          "base_uri": "https://localhost:8080/"
        },
        "id": "JezOA0SiunuP",
        "outputId": "cdd399fd-66ee-4589-8951-d7a01d1e81a4"
      },
      "execution_count": 53,
      "outputs": [
        {
          "output_type": "execute_result",
          "data": {
            "text/plain": [
              "tensor([ 1.6370e-02,  1.2315e-03, -8.2248e-05])"
            ]
          },
          "metadata": {},
          "execution_count": 53
        }
      ]
    },
    {
      "cell_type": "markdown",
      "source": [
        "We can use these gradients to improve our parameters. We’ll need to pick a learning rate (we’ll discuss how to do that in practice in the next chapter; for now, we’ll just use 1e-5 or 0.00001):"
      ],
      "metadata": {
        "id": "z_A9YkwSvAn1"
      }
    },
    {
      "cell_type": "code",
      "source": [
        "params"
      ],
      "metadata": {
        "colab": {
          "base_uri": "https://localhost:8080/"
        },
        "id": "xzxD4A9NuitN",
        "outputId": "98ec925a-d23f-4997-eb2e-5c2fb153f7cc"
      },
      "execution_count": 54,
      "outputs": [
        {
          "output_type": "execute_result",
          "data": {
            "text/plain": [
              "tensor([ 0.0905,  1.1358, -0.4131], requires_grad=True)"
            ]
          },
          "metadata": {},
          "execution_count": 54
        }
      ]
    },
    {
      "cell_type": "code",
      "source": [
        "# Step 5: Step the weights\n",
        "# Now we need to update the parameters based on the gradients we just calculated:\n",
        "lr = 1e-5\n",
        "params.data -= lr * params.grad.data\n",
        "params.grad = None"
      ],
      "metadata": {
        "id": "V7kgB979vQHc"
      },
      "execution_count": 55,
      "outputs": []
    },
    {
      "cell_type": "markdown",
      "source": [
        "Let's see if the loss has improved"
      ],
      "metadata": {
        "id": "lRv6i0Dh_su8"
      }
    },
    {
      "cell_type": "code",
      "source": [
        "preds = f(time, params)\n",
        "mse(preds, speed)\n",
        "show_preds(preds)"
      ],
      "metadata": {
        "colab": {
          "base_uri": "https://localhost:8080/",
          "height": 435
        },
        "id": "TFvpj9OSvvf_",
        "outputId": "7ebc6745-a606-48e8-a2fa-6bf1c778116a"
      },
      "execution_count": 56,
      "outputs": [
        {
          "output_type": "display_data",
          "data": {
            "text/plain": [
              "<Figure size 640x480 with 1 Axes>"
            ],
            "image/png": "[encoded data removed]"
          },
          "metadata": {}
        }
      ]
    },
    {
      "cell_type": "markdown",
      "source": [
        "We need to repeat this a few times, so we’ll create a function to apply one step"
      ],
      "metadata": {
        "id": "lX8hcXOG_697"
      }
    },
    {
      "cell_type": "code",
      "source": [
        "def apply_step(params, prn=True):\n",
        "  preds = f(time, params)\n",
        "  loss = mse(preds, speed)\n",
        "  loss.backward()\n",
        "  params.data -= lr * params.grad.data\n",
        "  params.grad = None\n",
        "  if prn: print(loss.item())\n",
        "  return preds"
      ],
      "metadata": {
        "id": "6pTimk2E_8-S"
      },
      "execution_count": 57,
      "outputs": []
    },
    {
      "cell_type": "code",
      "source": [
        "# Step 6: Repeat the process\n",
        "for _ in range(10): apply_step(params)"
      ],
      "metadata": {
        "colab": {
          "base_uri": "https://localhost:8080/"
        },
        "id": "8edf9MlGATQg",
        "outputId": "ef7e140c-cdfb-4895-a115-bfee9db145d9"
      },
      "execution_count": 58,
      "outputs": [
        {
          "output_type": "stream",
          "name": "stdout",
          "text": [
            "702.019775390625\n",
            "698.3558349609375\n",
            "697.6580200195312\n",
            "697.521240234375\n",
            "697.4908447265625\n",
            "697.48046875\n",
            "697.4739990234375\n",
            "697.4682006835938\n",
            "697.4625244140625\n",
            "697.4568481445312\n"
          ]
        }
      ]
    },
    {
      "cell_type": "markdown",
      "source": [
        "The loss is going down, just as we hoped! But looking only at these loss numbers disguises the fact that each iteration represents an entirely different quadratic function being tried, on the way to finding the best possible quadratic function. We can see this process visually if, instead of printing out the loss function, we plot the function at every step. Then we can see how the shape is approaching the best possible quadratic function for our data"
      ],
      "metadata": {
        "id": "JenryamIAnrN"
      }
    },
    {
      "cell_type": "code",
      "source": [
        "_,axs = plt.subplots(1,4,figsize=(12,3))\n",
        "for ax in axs: show_preds(apply_step(params, False), ax)\n",
        "plt.tight_layout()"
      ],
      "metadata": {
        "colab": {
          "base_uri": "https://localhost:8080/",
          "height": 306
        },
        "id": "C1G0HIGqApx6",
        "outputId": "5c312400-4c7c-4bc8-bbd4-c135eca3004d"
      },
      "execution_count": 59,
      "outputs": [
        {
          "output_type": "display_data",
          "data": {
            "text/plain": [
              "<Figure size 1200x300 with 4 Axes>"
            ],
            "image/png": "[encoded data removed]"
          },
          "metadata": {}
        }
      ]
    },
    {
      "cell_type": "markdown",
      "source": [
        "Step 7: Stop\n",
        "We just decided to stop after 10 epochs arbitrarily. In practice, we would watch the training and validation losses and our metrics to decide when to stop, as we’ve discussed."
      ],
      "metadata": {
        "id": "kbgOjmXGA3kl"
      }
    },
    {
      "cell_type": "markdown",
      "source": [
        "## The MNIST Loss Function\n",
        "We already have our xs—that is, our independent variables, the images themselves. We’ll concatenate them all into a single tensor, and also change them from a list of matrices (a rank-3 tensor) to a list of vectors (a rank-2 tensor). We can do this using view, which is a PyTorch method that changes the shape of a tensor without changing its contents. -1 is a special parameter to view that means “make this axis as big as necessary to fit all the data”:"
      ],
      "metadata": {
        "id": "ADhxvLniBrOM"
      }
    },
    {
      "cell_type": "code",
      "source": [
        "train_x = torch.cat([stacked_threes, stacked_sevens]).view(-1, 28*28)\n",
        "train_y = tensor([0]*len(stacked_threes) + [0]*len(stacked_sevens)).unsqueeze(1) # We need a label for each image. We’ll use 1 for 3s and 0 for 7s\n",
        "train_x.shape, train_y.shape"
      ],
      "metadata": {
        "colab": {
          "base_uri": "https://localhost:8080/"
        },
        "id": "UJMNdxG7BvfF",
        "outputId": "ba679817-34df-4167-b2c4-e53ff8e482b3"
      },
      "execution_count": 60,
      "outputs": [
        {
          "output_type": "execute_result",
          "data": {
            "text/plain": [
              "(torch.Size([12396, 784]), torch.Size([12396, 1]))"
            ]
          },
          "metadata": {},
          "execution_count": 60
        }
      ]
    },
    {
      "cell_type": "code",
      "source": [
        "# Just a refresher\n",
        "test = tensor(1)\n",
        "print(test.shape)\n",
        "t1 = tensor([2])\n",
        "print(t1.shape)\n",
        "t2 = tensor([1, 2, 3])\n",
        "print(t2.shape)\n",
        "t3 = tensor([[1], [2]])\n",
        "print(t3.shape)\n",
        "t4 = tensor([[1, 2], [3, 4]])\n",
        "print(t4.shape)\n",
        "t5 = tensor([[1, 2, 3], [4, 5, 6]])\n",
        "print(t5.shape)"
      ],
      "metadata": {
        "colab": {
          "base_uri": "https://localhost:8080/"
        },
        "id": "O6FtzMh7ChXj",
        "outputId": "f4fef2b8-53c5-4525-f4de-5b7551dd09df"
      },
      "execution_count": 61,
      "outputs": [
        {
          "output_type": "stream",
          "name": "stdout",
          "text": [
            "torch.Size([])\n",
            "torch.Size([1])\n",
            "torch.Size([3])\n",
            "torch.Size([2, 1])\n",
            "torch.Size([2, 2])\n",
            "torch.Size([2, 3])\n"
          ]
        }
      ]
    },
    {
      "cell_type": "markdown",
      "source": [
        "A Dataset in PyTorch is required to return a tuple of (x,y) when indexed. Python provides a zip function that, when combined with list, provides a simple way to get this functionality:"
      ],
      "metadata": {
        "id": "56UeqI6jDyDr"
      }
    },
    {
      "cell_type": "code",
      "source": [
        "dset = list(zip(train_x,train_y))\n",
        "x,y = dset[0]\n",
        "x.shape,y"
      ],
      "metadata": {
        "colab": {
          "base_uri": "https://localhost:8080/"
        },
        "id": "Rl8fhfqnDy0T",
        "outputId": "74af3142-cba6-4d6d-c703-42fbcfb53840"
      },
      "execution_count": 62,
      "outputs": [
        {
          "output_type": "execute_result",
          "data": {
            "text/plain": [
              "(torch.Size([784]), tensor([0]))"
            ]
          },
          "metadata": {},
          "execution_count": 62
        }
      ]
    },
    {
      "cell_type": "code",
      "source": [
        "valid_x = torch.cat([valid_3_tens, valid_7_tens]).view(-1, 28*28)\n",
        "valid_y = tensor([1]*len(valid_3_tens) + [0]*len(valid_7_tens)).unsqueeze(1)\n",
        "valid_dset = list(zip(valid_x, valid_y))"
      ],
      "metadata": {
        "id": "tChQI3rAECR9"
      },
      "execution_count": 63,
      "outputs": []
    },
    {
      "cell_type": "markdown",
      "source": [
        "Now we need an (initially random) weight for every pixel (this is the initialize step in our seven-step process):"
      ],
      "metadata": {
        "id": "AHHXR3y-EXkX"
      }
    },
    {
      "cell_type": "code",
      "source": [
        "def init_params(size, std=1.0):\n",
        "  return (torch.randn(size)*std).requires_grad_()\n",
        "\n",
        "weights = init_params((28*28, 1))"
      ],
      "metadata": {
        "id": "je0dwUGPEYsw"
      },
      "execution_count": 64,
      "outputs": []
    },
    {
      "cell_type": "markdown",
      "source": [
        "The function `weights*pixels` won’t be flexible enough—it is always equal to 0 when the pixels are equal to 0 (i.e., its intercept is 0). You might remember from high school math that the formula for a line is `y=w*x+b`; we still need the b. We’ll initialize it to a random number too:"
      ],
      "metadata": {
        "id": "O5ZPZlz3FNvF"
      }
    },
    {
      "cell_type": "code",
      "source": [
        "bias = init_params(1)\n",
        "bias"
      ],
      "metadata": {
        "colab": {
          "base_uri": "https://localhost:8080/"
        },
        "id": "QwWvNzCvFYUD",
        "outputId": "1725d46b-2f5a-4580-f2e4-037660cb7c95"
      },
      "execution_count": 65,
      "outputs": [
        {
          "output_type": "execute_result",
          "data": {
            "text/plain": [
              "tensor([1.4555], requires_grad=True)"
            ]
          },
          "metadata": {},
          "execution_count": 65
        }
      ]
    },
    {
      "cell_type": "markdown",
      "source": [
        "In neural networks, the w in the equation y=w*x+b is called the weights, and the b is called the bias. Together, the weights and bias make up the parameters."
      ],
      "metadata": {
        "id": "QJuFtYfpFmOK"
      }
    },
    {
      "cell_type": "markdown",
      "source": [
        "We can now calculate a prediction for one image:"
      ],
      "metadata": {
        "id": "4d7oe29bFwzS"
      }
    },
    {
      "cell_type": "code",
      "source": [
        "(train_x[0]*weights.T).sum() + bias"
      ],
      "metadata": {
        "colab": {
          "base_uri": "https://localhost:8080/"
        },
        "id": "yyHU7EQBFxY8",
        "outputId": "037173df-ad76-467f-d5f5-ba215dd174e5"
      },
      "execution_count": 66,
      "outputs": [
        {
          "output_type": "execute_result",
          "data": {
            "text/plain": [
              "tensor([-4.7347], grad_fn=<AddBackward0>)"
            ]
          },
          "metadata": {},
          "execution_count": 66
        }
      ]
    },
    {
      "cell_type": "markdown",
      "source": [
        "While we could use a Python for loop to calculate the prediction for each image, that would be very slow. Because Python loops don’t run on the GPU, and because Python is a slow language for loops in general, we need to represent as much of the computation in a model as possible using higher-level functions.\n",
        "\n",
        "In this case, there’s an extremely convenient mathematical operation that calculates w*x for every row of a matrix called matrix multiplication."
      ],
      "metadata": {
        "id": "SrRSf_ekGNZw"
      }
    },
    {
      "cell_type": "markdown",
      "source": [
        "In Python, matrix multiplication is represented with the @ operator. Let’s try it:"
      ],
      "metadata": {
        "id": "wBNFlemvH4ev"
      }
    },
    {
      "cell_type": "code",
      "source": [
        "def linear1(xb): return xb@weights + bias\n",
        "preds = linear1(train_x)\n",
        "preds"
      ],
      "metadata": {
        "colab": {
          "base_uri": "https://localhost:8080/"
        },
        "id": "TTApD-UTGDo-",
        "outputId": "04053a31-32db-4338-e272-5bf42bfc26d0"
      },
      "execution_count": 67,
      "outputs": [
        {
          "output_type": "execute_result",
          "data": {
            "text/plain": [
              "tensor([[-4.7347],\n",
              "        [-2.0439],\n",
              "        [-3.9245],\n",
              "        ...,\n",
              "        [-9.1251],\n",
              "        [ 2.2449],\n",
              "        [ 7.6469]], grad_fn=<AddBackward0>)"
            ]
          },
          "metadata": {},
          "execution_count": 67
        }
      ]
    },
    {
      "cell_type": "markdown",
      "source": [
        "Let’s check our accuracy. To decide if an output represents a 3 or a 7, we can just check whether it’s greater than 0, so our accuracy for each item can be calculated (using broadcasting, so no loops!) as follows:"
      ],
      "metadata": {
        "id": "ewWEycd0IM_G"
      }
    },
    {
      "cell_type": "code",
      "source": [
        "corrects = (preds > 0.0).float() == train_y\n",
        "corrects"
      ],
      "metadata": {
        "colab": {
          "base_uri": "https://localhost:8080/"
        },
        "id": "pjhmJegWIN50",
        "outputId": "5868e2be-3dff-42d7-f845-e2071b2c6629"
      },
      "execution_count": 68,
      "outputs": [
        {
          "output_type": "execute_result",
          "data": {
            "text/plain": [
              "tensor([[ True],\n",
              "        [ True],\n",
              "        [ True],\n",
              "        ...,\n",
              "        [ True],\n",
              "        [False],\n",
              "        [False]])"
            ]
          },
          "metadata": {},
          "execution_count": 68
        }
      ]
    },
    {
      "cell_type": "code",
      "source": [
        "corrects.float().mean().item()"
      ],
      "metadata": {
        "colab": {
          "base_uri": "https://localhost:8080/"
        },
        "id": "VbbeK-g0Ibk_",
        "outputId": "bec4d4f5-2e9a-47d3-964b-b326972fb568"
      },
      "execution_count": 69,
      "outputs": [
        {
          "output_type": "execute_result",
          "data": {
            "text/plain": [
              "0.5136334300041199"
            ]
          },
          "metadata": {},
          "execution_count": 69
        }
      ]
    },
    {
      "cell_type": "markdown",
      "source": [
        "We need a loss function that represents how good our model is.\n",
        "\n",
        "The obvious approach would be to use accuracy, which is our metric, as our loss function as well. In this case, we would calculate our prediction for each image, collect these values to calculate an overall accuracy, and then calculate the gradients of each weight with respect to that overall accuracy.\n",
        "\n",
        "Unfortunately, we have a significant technical problem here. The gradient of a function is its slope, or its steepness, which can be defined as rise over run—that is, how much the value of the function goes up or down, divided by how much we changed the input. We can write this mathematically as:\n",
        "\n",
        "```(y_new – y_old) / (x_new – x_old)```\n",
        "\n",
        "This gives a good approximation of the gradient when x_new is very similar to x_old, meaning that their difference is very small. But accuracy changes at all only when a prediction changes from a 3 to a 7, or vice versa. The problem is that a small change in weights from x_old to x_new isn’t likely to cause any prediction to change, so (y_new – y_old) will almost always be 0. In other words, the gradient is 0 almost everywhere.\n",
        "\n",
        "A very small change in the value of a weight will often not change the accuracy at all. This means it is not useful to use accuracy as a loss function—if we do, most of the time our gradients will be 0, and the model will not be able to learn from that number.\n",
        "\n",
        "Instead, we need a loss function that, when our weights result in slightly better predictions, gives us a slightly better loss. So what does a “slightly better prediction” look like, exactly? Well, in this case, it means that if the correct answer is a 3, the score is a little higher, or if the correct answer is a 7, the score is a little lower.\n",
        "\n",
        "Let’s write such a function now. What form does it take?\n",
        "\n",
        "The loss function receives not the images themselves, but the predictions from the model. So let’s make one argument, prds, of values between 0 and 1, where each value is the prediction that an image is a 3. It is a vector (i.e., a rank-1 tensor) indexed over the images.\n",
        "\n",
        "The purpose of the loss function is to measure the difference between predicted values and the true values—that is, the targets (aka labels). Let’s therefore make another argument, trgts, with values of 0 or 1 that tells whether an image actually is a 3 or not. It is also a vector (i.e., another rank-1 tensor) indexed over the images.\n",
        "\n",
        "For instance, suppose we had three images that we knew were a 3, a 7, and a 3. And suppose our model predicted with high confidence (0.9) that the first was a 3, with slight confidence (0.4) that the second was a 7, and with fair confidence (0.2), but incorrectly, that the last was a 7. This would mean our loss function would receive these values as its inputs:"
      ],
      "metadata": {
        "id": "afC0UpPII8sT"
      }
    },
    {
      "cell_type": "code",
      "source": [
        "trgts  = tensor([1,0,1])\n",
        "prds   = tensor([0.9, 0.4, 0.2])"
      ],
      "metadata": {
        "id": "fx_BYQdRM0PP"
      },
      "execution_count": 70,
      "outputs": []
    },
    {
      "cell_type": "markdown",
      "source": [
        "Here’s a first try at a loss function that measures the distance between predictions and targets:"
      ],
      "metadata": {
        "id": "h9wcyCR6M3K_"
      }
    },
    {
      "cell_type": "code",
      "source": [
        "def mnist_loss(predictions, targets):\n",
        "  return torch.where(targets==1, 1-predictions, predictions).mean()"
      ],
      "metadata": {
        "id": "Fus1aXejLAUp"
      },
      "execution_count": 71,
      "outputs": []
    },
    {
      "cell_type": "markdown",
      "source": [
        "We’re using a new function, `torch.where(a,b,c)`. This is the same as running the list comprehension `[b[i] if a[i] else c[i] for i in range(len(a))]`, except it works on tensors, at C/CUDA speed. In plain English, this function will measure how distant each prediction is from 1 if it should be 1, and how distant it is from 0 if it should be 0, and then it will take the mean of all those distances."
      ],
      "metadata": {
        "id": "U5NFGoyKLVMJ"
      }
    },
    {
      "cell_type": "markdown",
      "source": [
        "Let’s try it on our prds and trgts:"
      ],
      "metadata": {
        "id": "oAtpDZsiMeNR"
      }
    },
    {
      "cell_type": "code",
      "source": [
        "torch.where(trgts==1, 1 - prds, prds)"
      ],
      "metadata": {
        "colab": {
          "base_uri": "https://localhost:8080/"
        },
        "id": "aI6R4keqMmjl",
        "outputId": "b0a1595c-abd0-44d0-9728-07d3d1f75056"
      },
      "execution_count": 72,
      "outputs": [
        {
          "output_type": "execute_result",
          "data": {
            "text/plain": [
              "tensor([0.1000, 0.4000, 0.8000])"
            ]
          },
          "metadata": {},
          "execution_count": 72
        }
      ]
    },
    {
      "cell_type": "markdown",
      "source": [
        "You can see that this function returns a lower number when predictions are more accurate, when accurate predictions are more confident (higher absolute values), and when inaccurate predictions are less confident. In PyTorch, we always assume that a lower value of a loss function is better. Since we need a scalar for the final loss, mnist_loss takes the mean of the previous tensor:"
      ],
      "metadata": {
        "id": "5PK7WKLpNKji"
      }
    },
    {
      "cell_type": "code",
      "source": [
        "mnist_loss(prds, trgts)"
      ],
      "metadata": {
        "colab": {
          "base_uri": "https://localhost:8080/"
        },
        "id": "-O9C0TgzNQD-",
        "outputId": "3bb0e086-e2ca-4812-824e-ba8b95e20842"
      },
      "execution_count": 73,
      "outputs": [
        {
          "output_type": "execute_result",
          "data": {
            "text/plain": [
              "tensor(0.4333)"
            ]
          },
          "metadata": {},
          "execution_count": 73
        }
      ]
    },
    {
      "cell_type": "markdown",
      "source": [
        "For instance, if we change our prediction for the one “false” target from 0.2 to 0.8, the loss will go down, indicating that this is a better prediction:\n"
      ],
      "metadata": {
        "id": "SUZNN28DNf5z"
      }
    },
    {
      "cell_type": "code",
      "source": [
        "mnist_loss(tensor([0.9, 0.4, 0.8]),trgts)"
      ],
      "metadata": {
        "colab": {
          "base_uri": "https://localhost:8080/"
        },
        "id": "1lnidsfeNhK_",
        "outputId": "376ca668-4dfa-4cfd-9db5-eeaf4513893b"
      },
      "execution_count": 74,
      "outputs": [
        {
          "output_type": "execute_result",
          "data": {
            "text/plain": [
              "tensor(0.2333)"
            ]
          },
          "metadata": {},
          "execution_count": 74
        }
      ]
    },
    {
      "cell_type": "markdown",
      "source": [
        "One problem with mnist_loss as currently defined is that it assumes that predictions are always between 0 and 1. We need to ensure, then, that this is actually the case! As it happens, there is a function that does exactly that—let’s take a look."
      ],
      "metadata": {
        "id": "FRSkyy6FNmvq"
      }
    },
    {
      "cell_type": "markdown",
      "source": [
        "## Sigmoid\n",
        "\n",
        "The sigmoid function always outputs a number between 0 and 1. It’s defined as follows:"
      ],
      "metadata": {
        "id": "CVt5hzBoNo14"
      }
    },
    {
      "cell_type": "code",
      "source": [
        "def sigmoid(x): return 1/(1+torch.exp(-x))"
      ],
      "metadata": {
        "id": "gscDNKmzNtxD"
      },
      "execution_count": 75,
      "outputs": []
    },
    {
      "cell_type": "code",
      "source": [
        "plot_function(torch.sigmoid, title='Sigmoid', min=-4, max=4)"
      ],
      "metadata": {
        "colab": {
          "base_uri": "https://localhost:8080/",
          "height": 391
        },
        "id": "iMCx0_m8Sm9M",
        "outputId": "ae54c4ab-f90a-4bb1-fb77-3e08a8f28a5c"
      },
      "execution_count": 76,
      "outputs": [
        {
          "output_type": "display_data",
          "data": {
            "text/plain": [
              "<Figure size 600x400 with 1 Axes>"
            ],
            "image/png": "[encoded data removed]"
          },
          "metadata": {}
        }
      ]
    },
    {
      "cell_type": "markdown",
      "source": [
        "Let’s update mnist_loss to first apply sigmoid to the inputs:"
      ],
      "metadata": {
        "id": "cjN9XYDWTz3O"
      }
    },
    {
      "cell_type": "code",
      "source": [
        "def mnist_loss(predictions, targets):\n",
        "  predictions = predictions.sigmoid() # apply sigmoid\n",
        "  return torch.where(targets==1, 1-predictions, predictions).mean()"
      ],
      "metadata": {
        "id": "hPhkcnTbT1q9"
      },
      "execution_count": 77,
      "outputs": []
    },
    {
      "cell_type": "markdown",
      "source": [
        "Now we can be confident our loss function will work, even if the predictions are not between 0 and 1. All that is required is that a higher prediction corresponds to higher confidence."
      ],
      "metadata": {
        "id": "zTX2nn3ST_fK"
      }
    },
    {
      "cell_type": "markdown",
      "source": [
        "## SGD and Mini-Batches\n",
        "\n",
        "Now that we have a loss function suitable for driving SGD, we can consider some of the details involved in the next phase of the learning process, which is to change or update the weights based on the gradients. This is called an optimization step.\n",
        "\n",
        "To take an optimization step, we need to calculate the loss over one or more data items. How many should we use? We could calculate it for the whole dataset and take the average, or we could calculate it for a single data item. But neither of these is ideal. Calculating it for the whole dataset would take a long time. Calculating it for a single item would not use much information, so it would result in an imprecise and unstable gradient. You’d be going to the trouble of updating the weights, but taking into account only how that would improve the model’s performance on that single item.\n",
        "\n",
        "So instead we compromise: we calculate the average loss for a few data items at a time. This is called a mini-batch. The number of data items in the mini-batch is called the batch size. A larger batch size means that you will get a more accurate and stable estimate of your dataset’s gradients from the loss function, but it will take longer, and you will process fewer mini-batches per epoch. Choosing a good batch size is one of the decisions you need to make as a deep learning practitioner to train your model quickly and accurately.\n",
        "\n",
        "Another good reason for using mini-batches rather than calculating the gradient on individual data items is that, in practice, we nearly always do our training on an accelerator such as a GPU. These accelerators perform well only if they have lots of work to do at a time, so it’s helpful if we can give them lots of data items to work on. Using mini-batches is one of the best ways to do this. However, if you give them too much data to work on at once, they run out of memory—making GPUs happy is also tricky!\n",
        "\n",
        "We get better generalization if we can vary things during training (data augmentation). One simple and effective thing we can vary is what data items we put in each mini-batch. Rather than simply enumerating our dataset in order for every epoch, instead what we normally do is randomly shuffle it on every epoch, before we create mini-batches. PyTorch and fastai provide a class that will do the shuffling and mini-batch collation for you, called DataLoader.\n",
        "\n",
        "A DataLoader can take any Python collection and turn it into an iterator over many batches, like so:"
      ],
      "metadata": {
        "id": "DKgvDx1iUvPP"
      }
    },
    {
      "cell_type": "code",
      "source": [
        "coll = range(15)\n",
        "dl = DataLoader(coll, batch_size=5, shuffle=True)\n",
        "list(dl)"
      ],
      "metadata": {
        "colab": {
          "base_uri": "https://localhost:8080/"
        },
        "id": "5wtiNtoyVrz2",
        "outputId": "316786e0-3580-4fa2-ac7a-52082ca758c8"
      },
      "execution_count": 78,
      "outputs": [
        {
          "output_type": "execute_result",
          "data": {
            "text/plain": [
              "[tensor([ 3, 12, 11, 13,  4]),\n",
              " tensor([ 6,  0,  1, 10,  2]),\n",
              " tensor([14,  7,  9,  8,  5])]"
            ]
          },
          "metadata": {},
          "execution_count": 78
        }
      ]
    },
    {
      "cell_type": "markdown",
      "source": [
        "For training a model, we don’t just want any Python collection, but a collection containing independent and dependent variables (the inputs and targets of the model). A collection that contains tuples of independent and dependent variables is known in PyTorch as a Dataset. Here’s an example of an extremely simple Dataset:"
      ],
      "metadata": {
        "id": "hME2zfBLWCEZ"
      }
    },
    {
      "cell_type": "code",
      "source": [
        "ds = L(enumerate(string.ascii_lowercase))\n",
        "ds"
      ],
      "metadata": {
        "colab": {
          "base_uri": "https://localhost:8080/"
        },
        "id": "KFvmIn_AWEz0",
        "outputId": "8f6ccb32-ad30-405e-af46-bd914784eea3"
      },
      "execution_count": 79,
      "outputs": [
        {
          "output_type": "execute_result",
          "data": {
            "text/plain": [
              "(#26) [(0, 'a'),(1, 'b'),(2, 'c'),(3, 'd'),(4, 'e'),(5, 'f'),(6, 'g'),(7, 'h'),(8, 'i'),(9, 'j')...]"
            ]
          },
          "metadata": {},
          "execution_count": 79
        }
      ]
    },
    {
      "cell_type": "markdown",
      "source": [
        "When we pass a Dataset to a DataLoader we will get back many batches that are themselves tuples of tensors representing batches of independent and dependent variables:"
      ],
      "metadata": {
        "id": "qcLOU7dHWYDx"
      }
    },
    {
      "cell_type": "code",
      "source": [
        "dl = DataLoader(ds, batch_size=6, shuffle=True)\n",
        "list(dl)"
      ],
      "metadata": {
        "colab": {
          "base_uri": "https://localhost:8080/"
        },
        "id": "rpZsZaJPWfE6",
        "outputId": "f008b3b8-18e8-4bd9-aa3c-8f6fed8c21f3"
      },
      "execution_count": 80,
      "outputs": [
        {
          "output_type": "execute_result",
          "data": {
            "text/plain": [
              "[(tensor([22,  6, 24, 16,  8, 21]), ('w', 'g', 'y', 'q', 'i', 'v')),\n",
              " (tensor([ 7, 20,  9,  4, 18,  3]), ('h', 'u', 'j', 'e', 's', 'd')),\n",
              " (tensor([25, 13, 11, 17,  0, 23]), ('z', 'n', 'l', 'r', 'a', 'x')),\n",
              " (tensor([14,  1,  2, 10,  5, 19]), ('o', 'b', 'c', 'k', 'f', 't')),\n",
              " (tensor([15, 12]), ('p', 'm'))]"
            ]
          },
          "metadata": {},
          "execution_count": 80
        }
      ]
    },
    {
      "cell_type": "markdown",
      "source": [
        "## Putting It All Together\n",
        "\n",
        "Implement something like this\n",
        "\n",
        "```\n",
        "for x,y in dl:\n",
        "  pred = model(x)\n",
        "  loss = loss_func(pred, y)\n",
        "  loss.backward()\n",
        "  parameters -= parameters.grad * lr\n",
        "```\n",
        "\n",
        "First, let's initialize our parameters"
      ],
      "metadata": {
        "id": "3pA1aOKpXnTU"
      }
    },
    {
      "cell_type": "code",
      "source": [
        "weights = init_params((28 * 28, 1))\n",
        "bias = init_params(1)"
      ],
      "metadata": {
        "id": "d2xrQqKHXu2r"
      },
      "execution_count": 81,
      "outputs": []
    },
    {
      "cell_type": "markdown",
      "source": [
        "Create DataLoader from Dataset"
      ],
      "metadata": {
        "id": "1SHF17jaYT8-"
      }
    },
    {
      "cell_type": "code",
      "source": [
        "dl = DataLoader(dset, batch_size=256)\n",
        "xb, yb = first(dl)\n",
        "xb.shape, yb.shape"
      ],
      "metadata": {
        "colab": {
          "base_uri": "https://localhost:8080/"
        },
        "id": "0BGFPzbnYXQI",
        "outputId": "a6666ea9-e38b-4ffc-c135-59cd653f8e2c"
      },
      "execution_count": 82,
      "outputs": [
        {
          "output_type": "execute_result",
          "data": {
            "text/plain": [
              "(torch.Size([256, 784]), torch.Size([256, 1]))"
            ]
          },
          "metadata": {},
          "execution_count": 82
        }
      ]
    },
    {
      "cell_type": "markdown",
      "source": [
        "We'll do the same for the validation set"
      ],
      "metadata": {
        "id": "Qfa-Bh1vZGfF"
      }
    },
    {
      "cell_type": "code",
      "source": [
        "valid_dl = DataLoader(valid_dset, batch_size=256)\n"
      ],
      "metadata": {
        "id": "IKdFTzmkZIxG"
      },
      "execution_count": 83,
      "outputs": []
    },
    {
      "cell_type": "markdown",
      "source": [
        "Let's create mini-batch of size 4 for testing"
      ],
      "metadata": {
        "id": "26ZsslRpZPQe"
      }
    },
    {
      "cell_type": "code",
      "source": [
        "batch = train_x[:4]\n",
        "batch.shape"
      ],
      "metadata": {
        "colab": {
          "base_uri": "https://localhost:8080/"
        },
        "id": "fGirhDFYZRpo",
        "outputId": "0d63fca2-1ede-416b-9b95-83c426b429e5"
      },
      "execution_count": 84,
      "outputs": [
        {
          "output_type": "execute_result",
          "data": {
            "text/plain": [
              "torch.Size([4, 784])"
            ]
          },
          "metadata": {},
          "execution_count": 84
        }
      ]
    },
    {
      "cell_type": "code",
      "source": [
        "preds = linear1(batch)\n",
        "preds"
      ],
      "metadata": {
        "colab": {
          "base_uri": "https://localhost:8080/"
        },
        "id": "ZZlSdcNwZYe1",
        "outputId": "759e76d8-852f-45bf-b987-6db29f5bb230"
      },
      "execution_count": 85,
      "outputs": [
        {
          "output_type": "execute_result",
          "data": {
            "text/plain": [
              "tensor([[-4.3566],\n",
              "        [ 0.8908],\n",
              "        [ 2.9002],\n",
              "        [ 0.7436]], grad_fn=<AddBackward0>)"
            ]
          },
          "metadata": {},
          "execution_count": 85
        }
      ]
    },
    {
      "cell_type": "code",
      "source": [
        "loss = mnist_loss(preds, train_y[:4])\n",
        "loss"
      ],
      "metadata": {
        "colab": {
          "base_uri": "https://localhost:8080/"
        },
        "id": "o0ffQ22FZghG",
        "outputId": "765b4735-32a9-4aa7-9892-ebd93103b411"
      },
      "execution_count": 86,
      "outputs": [
        {
          "output_type": "execute_result",
          "data": {
            "text/plain": [
              "tensor(0.5868, grad_fn=<MeanBackward0>)"
            ]
          },
          "metadata": {},
          "execution_count": 86
        }
      ]
    },
    {
      "cell_type": "markdown",
      "source": [
        "Now we can calculate the gradients:"
      ],
      "metadata": {
        "id": "MFAPKzQHZpf9"
      }
    },
    {
      "cell_type": "code",
      "source": [
        "loss.backward()\n",
        "weights.grad.shape, weights.grad.mean(), bias.grad"
      ],
      "metadata": {
        "colab": {
          "base_uri": "https://localhost:8080/"
        },
        "id": "kLdJJKIUZsWN",
        "outputId": "3841f5cd-28e4-48c4-8e5f-cc3df22d667f"
      },
      "execution_count": 87,
      "outputs": [
        {
          "output_type": "execute_result",
          "data": {
            "text/plain": [
              "(torch.Size([784, 1]), tensor(0.0192), tensor([0.1217]))"
            ]
          },
          "metadata": {},
          "execution_count": 87
        }
      ]
    },
    {
      "cell_type": "markdown",
      "source": [
        "Let's put all that in a function  "
      ],
      "metadata": {
        "id": "4d_3PiuPaGdF"
      }
    },
    {
      "cell_type": "code",
      "source": [
        "def calc_grad(xb, yb, model):\n",
        "  preds = model(xb)\n",
        "  loss = mnist_loss(preds, yb)\n",
        "  loss.backward()"
      ],
      "metadata": {
        "id": "FoGoLnkOaDCe"
      },
      "execution_count": 88,
      "outputs": []
    },
    {
      "cell_type": "markdown",
      "source": [
        "And test it"
      ],
      "metadata": {
        "id": "FIO6_3BZadh3"
      }
    },
    {
      "cell_type": "code",
      "source": [
        "calc_grad(batch, train_y[:4], linear1)\n",
        "weights.grad.mean(), bias.grad"
      ],
      "metadata": {
        "colab": {
          "base_uri": "https://localhost:8080/"
        },
        "id": "RAVMOHpXacmi",
        "outputId": "90981ca2-bb5a-4bbf-edb2-81fc1571f857"
      },
      "execution_count": 89,
      "outputs": [
        {
          "output_type": "execute_result",
          "data": {
            "text/plain": [
              "(tensor(0.0383), tensor([0.2433]))"
            ]
          },
          "metadata": {},
          "execution_count": 89
        }
      ]
    },
    {
      "cell_type": "markdown",
      "source": [
        "The gradients have changed! The reason for this is that loss.backward adds the gradients of `loss` to any gradients that are currently stored. So, we have to set the current gradients to 0 first:"
      ],
      "metadata": {
        "id": "vdPLGC3yatEs"
      }
    },
    {
      "cell_type": "code",
      "source": [
        "weights.grad.zero_()\n",
        "bias.grad.zero_()"
      ],
      "metadata": {
        "colab": {
          "base_uri": "https://localhost:8080/"
        },
        "id": "3v8VjJIua073",
        "outputId": "4aecec6c-8250-44b2-cecd-219796d4c25a"
      },
      "execution_count": 90,
      "outputs": [
        {
          "output_type": "execute_result",
          "data": {
            "text/plain": [
              "tensor([0.])"
            ]
          },
          "metadata": {},
          "execution_count": 90
        }
      ]
    },
    {
      "cell_type": "markdown",
      "source": [
        "Our only remaining step is to update the weights and biases based on the gradient and learning rate. When we do so, we have to tell PyTorch not to take the gradient of this step too—otherwise, things will get confusing when we try to compute the derivative at the next batch! If we assign to the data attribute of a tensor, PyTorch will not take the gradient of that step. Here’s our basic training loop for an epoch:"
      ],
      "metadata": {
        "id": "_IpkjR1mbEMt"
      }
    },
    {
      "cell_type": "code",
      "source": [
        "def train_epoch(model, lr, params):\n",
        "  for xb, yb in dl:\n",
        "    calc_grad(xb, yb, model)\n",
        "    for p in params:\n",
        "      p.data -= p.grad * lr\n",
        "      p.grad.zero_()"
      ],
      "metadata": {
        "id": "E0LV9vKdbNcx"
      },
      "execution_count": 91,
      "outputs": []
    },
    {
      "cell_type": "markdown",
      "source": [
        "We also want to check how we’re doing, by looking at the accuracy of the validation set. To decide if an output represents a 3 or a 7, we can just check whether it’s greater than 0. So our accuracy for each item can be calculated (using broadcasting, so no loops!) as follows:"
      ],
      "metadata": {
        "id": "cAVhRPrQbixN"
      }
    },
    {
      "cell_type": "code",
      "source": [
        "(preds>0.0).float() == train_y[:4]"
      ],
      "metadata": {
        "colab": {
          "base_uri": "https://localhost:8080/"
        },
        "id": "lUoHPyAtbj0j",
        "outputId": "c57805e0-c809-4bc0-cfc1-0f0588e63dda"
      },
      "execution_count": 92,
      "outputs": [
        {
          "output_type": "execute_result",
          "data": {
            "text/plain": [
              "tensor([[ True],\n",
              "        [False],\n",
              "        [False],\n",
              "        [False]])"
            ]
          },
          "metadata": {},
          "execution_count": 92
        }
      ]
    },
    {
      "cell_type": "markdown",
      "source": [
        "That gives us this function to calculate our validation accuracy:"
      ],
      "metadata": {
        "id": "uJet2h99brae"
      }
    },
    {
      "cell_type": "code",
      "source": [
        "def batch_accuracy(xb, yb):\n",
        "  preds = xb.sigmoid()\n",
        "  correct = (preds>0.5) == yb\n",
        "  return correct.float().mean()"
      ],
      "metadata": {
        "id": "st1Ln0GEbqEe"
      },
      "execution_count": 93,
      "outputs": []
    },
    {
      "cell_type": "code",
      "source": [
        "batch_accuracy(linear1(batch), train_y[:4]) # check if it works"
      ],
      "metadata": {
        "colab": {
          "base_uri": "https://localhost:8080/"
        },
        "id": "pWc06fivb6Pi",
        "outputId": "2468d099-180d-4b36-aa56-9d21f2123495"
      },
      "execution_count": 94,
      "outputs": [
        {
          "output_type": "execute_result",
          "data": {
            "text/plain": [
              "tensor(0.2500)"
            ]
          },
          "metadata": {},
          "execution_count": 94
        }
      ]
    },
    {
      "cell_type": "markdown",
      "source": [
        "And then put the batches together:"
      ],
      "metadata": {
        "id": "YXLHpWJ3b__v"
      }
    },
    {
      "cell_type": "code",
      "source": [
        "def validate_epoch(model):\n",
        "  accs = [batch_accuracy(model(xb), yb) for xb, yb in valid_dl]\n",
        "  return round(torch.stack(accs).mean().item(), 4)\n",
        "\n",
        "validate_epoch(linear1)"
      ],
      "metadata": {
        "colab": {
          "base_uri": "https://localhost:8080/"
        },
        "id": "L29bnLVJcBmH",
        "outputId": "5ea97440-0e57-41bb-8396-9322af1761be"
      },
      "execution_count": 95,
      "outputs": [
        {
          "output_type": "execute_result",
          "data": {
            "text/plain": [
              "0.5615"
            ]
          },
          "metadata": {},
          "execution_count": 95
        }
      ]
    },
    {
      "cell_type": "markdown",
      "source": [
        "That’s our starting point. Let’s train for one epoch and see if the accuracy improves:"
      ],
      "metadata": {
        "id": "v-OUpzrHceIT"
      }
    },
    {
      "cell_type": "code",
      "source": [
        "lr = 1.\n",
        "params = weights,bias\n",
        "train_epoch(linear1, lr, params)\n",
        "validate_epoch(linear1)"
      ],
      "metadata": {
        "colab": {
          "base_uri": "https://localhost:8080/"
        },
        "id": "zoCYCpyIcgXi",
        "outputId": "e39e3cce-d67c-486c-afc3-b7f7aab708e7"
      },
      "execution_count": 96,
      "outputs": [
        {
          "output_type": "execute_result",
          "data": {
            "text/plain": [
              "0.5054"
            ]
          },
          "metadata": {},
          "execution_count": 96
        }
      ]
    },
    {
      "cell_type": "markdown",
      "source": [
        "Then do a few more:"
      ],
      "metadata": {
        "id": "wQNZ65z2cpij"
      }
    },
    {
      "cell_type": "code",
      "source": [
        "for i in range(20):\n",
        "  train_epoch(linear1, lr, params)\n",
        "  print(validate_epoch(linear1), end=' ')"
      ],
      "metadata": {
        "colab": {
          "base_uri": "https://localhost:8080/"
        },
        "id": "XegUJPJBcrbm",
        "outputId": "23f13c77-8d0f-45aa-da65-953efb96c4ba"
      },
      "execution_count": 97,
      "outputs": [
        {
          "output_type": "stream",
          "name": "stdout",
          "text": [
            "0.5063 0.5068 0.5068 0.5068 0.5068 0.5068 0.5068 0.5068 0.5068 0.5068 0.5068 0.5068 0.5068 0.5068 0.5068 0.5068 0.5068 0.5068 0.5068 0.5068 "
          ]
        }
      ]
    },
    {
      "cell_type": "markdown",
      "source": [
        "Looking good! We’re already about at the same accuracy as our “pixel similarity” approach, and we’ve created a general-purpose foundation we can build on. Our next step will be to create an object that will handle the SGD step for us. In PyTorch, it’s called an optimizer.\n",
        "\n",
        "## Creating an Optimizer\n",
        "\n",
        "Because this is such a general foundation, PyTorch provides some useful classes to make it easier to implement. The first thing we can do is replace our linear function with PyTorch’s nn.Linear module. A module is an object of a class that inherits from the PyTorch nn.Module class. Objects of this class behave identically to standard Python functions, in that you can call them using parentheses, and they will return the activations of a model.\n",
        "\n",
        "nn.Linear does the same thing as our init_params and linear together. It contains both the weights and biases in a single class. Here’s how we replicate our model from the previous section:"
      ],
      "metadata": {
        "id": "lWG7o87edNAb"
      }
    },
    {
      "cell_type": "code",
      "source": [
        "linear_model = nn.Linear(28*28,1)"
      ],
      "metadata": {
        "id": "L-3pC296dozF"
      },
      "execution_count": 98,
      "outputs": []
    },
    {
      "cell_type": "markdown",
      "source": [
        "Every PyTorch module knows what parameters it has that can be trained; they are available through the parameters method:"
      ],
      "metadata": {
        "id": "ViZw2nQldxWs"
      }
    },
    {
      "cell_type": "code",
      "source": [
        "w,b = linear_model.parameters()\n",
        "w.shape,b.shape"
      ],
      "metadata": {
        "colab": {
          "base_uri": "https://localhost:8080/"
        },
        "id": "BIVZC4a2dy9o",
        "outputId": "0d13f411-5a58-40c7-b3ef-638e40a4e215"
      },
      "execution_count": 99,
      "outputs": [
        {
          "output_type": "execute_result",
          "data": {
            "text/plain": [
              "(torch.Size([1, 784]), torch.Size([1]))"
            ]
          },
          "metadata": {},
          "execution_count": 99
        }
      ]
    },
    {
      "cell_type": "markdown",
      "source": [
        "We can use this information to create an optimizer:"
      ],
      "metadata": {
        "id": "WHoClIHbeJLK"
      }
    },
    {
      "cell_type": "code",
      "source": [
        "class BasicOptim:\n",
        "  def __init__(self, params, lr):\n",
        "    self.params, self.lr = list(params), lr\n",
        "\n",
        "  def step(self, *args, **kwargs):\n",
        "    for p in self.params:\n",
        "      p.data -= p.grad.data * self.lr\n",
        "\n",
        "  def zero_grad(self, *args, **kwargs):\n",
        "    for p in self.params:\n",
        "      p.grad = None"
      ],
      "metadata": {
        "id": "IqzKhglteJ5o"
      },
      "execution_count": 100,
      "outputs": []
    },
    {
      "cell_type": "markdown",
      "source": [
        "We can create our optimizer by passing in the model’s parameters:"
      ],
      "metadata": {
        "id": "QF6rq_BVfC3A"
      }
    },
    {
      "cell_type": "code",
      "source": [
        "opt = BasicOptim(linear_model.parameters(), lr)"
      ],
      "metadata": {
        "id": "9my0tn7ffFUz"
      },
      "execution_count": 101,
      "outputs": []
    },
    {
      "cell_type": "markdown",
      "source": [
        "Our training loop can now be simplified:"
      ],
      "metadata": {
        "id": "KItEZUrCfQjU"
      }
    },
    {
      "cell_type": "code",
      "source": [
        "def train_epoch(model):\n",
        "  for xb,yb in dl:\n",
        "    calc_grad(xb, yb, model)\n",
        "    opt.step()\n",
        "    opt.zero_grad()"
      ],
      "metadata": {
        "id": "ht8NvujxfRCe"
      },
      "execution_count": 102,
      "outputs": []
    },
    {
      "cell_type": "markdown",
      "source": [
        "Our validation function doesn’t need to change at all:"
      ],
      "metadata": {
        "id": "M91qlmk5fn05"
      }
    },
    {
      "cell_type": "code",
      "source": [
        "validate_epoch(linear_model)"
      ],
      "metadata": {
        "colab": {
          "base_uri": "https://localhost:8080/"
        },
        "id": "kpY6Pa2EfpgV",
        "outputId": "c93a55a1-0b83-42fa-8a55-1212e9eed740"
      },
      "execution_count": 103,
      "outputs": [
        {
          "output_type": "execute_result",
          "data": {
            "text/plain": [
              "0.3783"
            ]
          },
          "metadata": {},
          "execution_count": 103
        }
      ]
    },
    {
      "cell_type": "markdown",
      "source": [
        "Let’s put our little training loop in a function, to make things simpler:"
      ],
      "metadata": {
        "id": "lG7KxzD-fwP3"
      }
    },
    {
      "cell_type": "code",
      "source": [
        "def train_model(model, epochs):\n",
        "  for i in range(epochs):\n",
        "    train_epoch(model)\n",
        "    print(validate_epoch(model), end=' ')"
      ],
      "metadata": {
        "id": "55UWPxbrg0Qp"
      },
      "execution_count": 104,
      "outputs": []
    },
    {
      "cell_type": "code",
      "source": [
        "train_model(linear_model, 20)"
      ],
      "metadata": {
        "colab": {
          "base_uri": "https://localhost:8080/"
        },
        "id": "UGVV42Tig9-a",
        "outputId": "943ddec8-4913-4fc6-d092-ab937fe4a4d2"
      },
      "execution_count": 105,
      "outputs": [
        {
          "output_type": "stream",
          "name": "stdout",
          "text": [
            "0.5068 0.5068 0.5068 0.5068 0.5068 0.5068 0.5068 0.5068 0.5068 0.5068 0.5068 0.5068 0.5068 0.5068 0.5068 0.5068 0.5068 0.5068 0.5068 0.5068 "
          ]
        }
      ]
    },
    {
      "cell_type": "markdown",
      "source": [
        "fastai provides the SGD class that, by default, does the same thing as our BasicOptim:"
      ],
      "metadata": {
        "id": "JhhuZzbzN_v1"
      }
    },
    {
      "cell_type": "code",
      "source": [
        "linear_model = nn.Linear(28*28,1)\n",
        "opt = SGD(linear_model.parameters(), lr)\n",
        "train_model(linear_model, 20)"
      ],
      "metadata": {
        "colab": {
          "base_uri": "https://localhost:8080/"
        },
        "id": "MmedgUAcOAes",
        "outputId": "d17d618b-fb14-419e-9547-3d486ec1acde"
      },
      "execution_count": 106,
      "outputs": [
        {
          "output_type": "stream",
          "name": "stdout",
          "text": [
            "0.5068 0.5068 0.5068 0.5068 0.5068 0.5068 0.5068 0.5068 0.5068 0.5068 0.5068 0.5068 0.5068 0.5068 0.5068 0.5068 0.5068 0.5068 0.5068 0.5068 "
          ]
        }
      ]
    },
    {
      "cell_type": "markdown",
      "source": [
        "fastai also provides Learner.fit, which we can use instead of train_model. To create a Learner, we first need to create a DataLoaders, by passing in our training and validation DataLoaders:"
      ],
      "metadata": {
        "id": "Ajv1Wj_6OSeL"
      }
    },
    {
      "cell_type": "code",
      "source": [
        "dls = DataLoaders(dl, valid_dl)"
      ],
      "metadata": {
        "id": "jV5hNeyYOV7V"
      },
      "execution_count": 107,
      "outputs": []
    },
    {
      "cell_type": "markdown",
      "source": [
        "To create a Learner without using an application (such as cnn_learner), we need to pass in all the elements that we’ve created in this chapter: the DataLoaders, the model, the optimization function (which will be passed the parameters), the loss function, and optionally any metrics to print:"
      ],
      "metadata": {
        "id": "_wiHAlpYOc8K"
      }
    },
    {
      "cell_type": "code",
      "source": [
        "learn = Learner(dls, nn.Linear(28*28,1), opt_func=SGD,\n",
        "                    loss_func=mnist_loss, metrics=batch_accuracy)"
      ],
      "metadata": {
        "id": "D3BydlvWOdcv"
      },
      "execution_count": 108,
      "outputs": []
    },
    {
      "cell_type": "markdown",
      "source": [
        "Now we can call fit:"
      ],
      "metadata": {
        "id": "jQZip3jbOlan"
      }
    },
    {
      "cell_type": "code",
      "source": [
        "learn.fit(10, lr=lr)"
      ],
      "metadata": {
        "colab": {
          "base_uri": "https://localhost:8080/",
          "height": 363
        },
        "id": "IfrJC2PQOl1m",
        "outputId": "ccaba6cc-839f-457d-abbf-218496ec2b3a"
      },
      "execution_count": 109,
      "outputs": [
        {
          "output_type": "display_data",
          "data": {
            "text/plain": [
              "<IPython.core.display.HTML object>"
            ],
            "text/html": [
              "\n",
              "<style>\n",
              "    /* Turns off some styling */\n",
              "    progress {\n",
              "        /* gets rid of default border in Firefox and Opera. */\n",
              "        border: none;\n",
              "        /* Needs to be in here for Safari polyfill so background images work as expected. */\n",
              "        background-size: auto;\n",
              "    }\n",
              "    progress:not([value]), progress:not([value])::-webkit-progress-bar {\n",
              "        background: repeating-linear-gradient(45deg, #7e7e7e, #7e7e7e 10px, #5c5c5c 10px, #5c5c5c 20px);\n",
              "    }\n",
              "    .progress-bar-interrupted, .progress-bar-interrupted::-webkit-progress-bar {\n",
              "        background: #F44336;\n",
              "    }\n",
              "</style>\n"
            ]
          },
          "metadata": {}
        },
        {
          "output_type": "display_data",
          "data": {
            "text/plain": [
              "<IPython.core.display.HTML object>"
            ],
            "text/html": [
              "<table border=\"1\" class=\"dataframe\">\n",
              "  <thead>\n",
              "    <tr style=\"text-align: left;\">\n",
              "      <th>epoch</th>\n",
              "      <th>train_loss</th>\n",
              "      <th>valid_loss</th>\n",
              "      <th>batch_accuracy</th>\n",
              "      <th>time</th>\n",
              "    </tr>\n",
              "  </thead>\n",
              "  <tbody>\n",
              "    <tr>\n",
              "      <td>0</td>\n",
              "      <td>0.007130</td>\n",
              "      <td>0.495860</td>\n",
              "      <td>0.504416</td>\n",
              "      <td>00:00</td>\n",
              "    </tr>\n",
              "    <tr>\n",
              "      <td>1</td>\n",
              "      <td>0.002263</td>\n",
              "      <td>0.495777</td>\n",
              "      <td>0.504416</td>\n",
              "      <td>00:00</td>\n",
              "    </tr>\n",
              "    <tr>\n",
              "      <td>2</td>\n",
              "      <td>0.000992</td>\n",
              "      <td>0.495733</td>\n",
              "      <td>0.504416</td>\n",
              "      <td>00:00</td>\n",
              "    </tr>\n",
              "    <tr>\n",
              "      <td>3</td>\n",
              "      <td>0.000536</td>\n",
              "      <td>0.495706</td>\n",
              "      <td>0.504416</td>\n",
              "      <td>00:00</td>\n",
              "    </tr>\n",
              "    <tr>\n",
              "      <td>4</td>\n",
              "      <td>0.000346</td>\n",
              "      <td>0.495687</td>\n",
              "      <td>0.504416</td>\n",
              "      <td>00:00</td>\n",
              "    </tr>\n",
              "    <tr>\n",
              "      <td>5</td>\n",
              "      <td>0.000258</td>\n",
              "      <td>0.495674</td>\n",
              "      <td>0.504416</td>\n",
              "      <td>00:00</td>\n",
              "    </tr>\n",
              "    <tr>\n",
              "      <td>6</td>\n",
              "      <td>0.000210</td>\n",
              "      <td>0.495663</td>\n",
              "      <td>0.504416</td>\n",
              "      <td>00:00</td>\n",
              "    </tr>\n",
              "    <tr>\n",
              "      <td>7</td>\n",
              "      <td>0.000181</td>\n",
              "      <td>0.495655</td>\n",
              "      <td>0.504416</td>\n",
              "      <td>00:00</td>\n",
              "    </tr>\n",
              "    <tr>\n",
              "      <td>8</td>\n",
              "      <td>0.000161</td>\n",
              "      <td>0.495648</td>\n",
              "      <td>0.504416</td>\n",
              "      <td>00:00</td>\n",
              "    </tr>\n",
              "    <tr>\n",
              "      <td>9</td>\n",
              "      <td>0.000146</td>\n",
              "      <td>0.495643</td>\n",
              "      <td>0.504416</td>\n",
              "      <td>00:00</td>\n",
              "    </tr>\n",
              "  </tbody>\n",
              "</table>"
            ]
          },
          "metadata": {}
        }
      ]
    },
    {
      "cell_type": "markdown",
      "source": [
        "## Adding a Nonlinearity\n",
        "So far, we have a general procedure for optimizing the parameters of a function, and we have tried it out on a boring function: a simple linear classifier. A linear classifier is constrained in terms of what it can do. To make it a bit more complex (and able to handle more tasks), we need to add something nonlinear (i.e., different from ax+b) between two linear classifiers—this is what gives us a neural network.\n",
        "\n",
        "Here is the entire definition of a basic neural network:"
      ],
      "metadata": {
        "id": "CP-IkIqZO1K5"
      }
    },
    {
      "cell_type": "code",
      "source": [
        "def simple_net(xb):\n",
        "  res = xb@w1 + b1\n",
        "  res = res.max(tensor(0.0))\n",
        "  res = res@w2 + b2\n",
        "  return res"
      ],
      "metadata": {
        "id": "i6ynJNxGO_Rf"
      },
      "execution_count": 110,
      "outputs": []
    },
    {
      "cell_type": "markdown",
      "source": [
        "Here, w1 and w2 are weight tensors, and b1 and b2 are bias tensors; that is, parameters that are initially randomly initialized, just as we did in the previous section:"
      ],
      "metadata": {
        "id": "RtN9jYWkPjE5"
      }
    },
    {
      "cell_type": "code",
      "source": [
        "w1 = init_params((28*28,30))\n",
        "b1 = init_params(30)\n",
        "w2 = init_params((30,1))\n",
        "b2 = init_params(1)"
      ],
      "metadata": {
        "id": "qMEOcl1zPk--"
      },
      "execution_count": 112,
      "outputs": []
    },
    {
      "cell_type": "markdown",
      "source": [
        "\n",
        "The key point is that w1 has 30 output activations (which means that w2 must have 30 input activations, so they match). That means that the first layer can construct 30 dif‐ ferent features, each representing a different mix of pixels. You can change that 30 to anything you like, to make the model more or less complex.\n",
        "\n",
        "That little function res.max(tensor(0.0)) is called a rectified linear unit, also known as ReLU. We think we can all agree that rectified linear unit sounds pretty fancy and complicated...But actually, there’s nothing more to it than res.max(tensor(0.0))— in other words, replace every negative number with a zero. This tiny function is also available in PyTorch as F.relu:"
      ],
      "metadata": {
        "id": "mdScEa_fPnKk"
      }
    },
    {
      "cell_type": "code",
      "source": [
        "plot_function(F.relu)"
      ],
      "metadata": {
        "colab": {
          "base_uri": "https://localhost:8080/",
          "height": 368
        },
        "id": "LHnw-ZPsPpkN",
        "outputId": "d6f0663f-299c-4532-c34c-507f264c42bd"
      },
      "execution_count": 111,
      "outputs": [
        {
          "output_type": "display_data",
          "data": {
            "text/plain": [
              "<Figure size 600x400 with 1 Axes>"
            ],
            "image/png": "[encoded data removed]"
          },
          "metadata": {}
        }
      ]
    },
    {
      "cell_type": "markdown",
      "source": [
        "The basic idea is that by using more linear layers, we can have our model do more computation, and therefore model more complex functions. But there’s no point in just putting one linear layout directly after another one, because when we multiply things together and then add them up multiple times, that could be replaced by mul‐ tiplying different things together and adding them up just once! That is to say, a series of any number of linear layers in a row can be replaced with a single linear layer with a different set of parameters.\n",
        "\n",
        "But if we put a nonlinear function between them, such as max, this is no longer true. Now each linear layer is somewhat decoupled from the other ones and can do its own useful work. The max function is particularly interesting, because it operates as a sim‐ ple if statement.\n",
        "\n",
        "Amazingly enough, it can be mathematically proven that this little function can solve any computable problem to an arbitrarily high level of accuracy, if you can find the right parameters for w1 and w2 and if you make these matrices big enough. For any arbitrarily wiggly function, we can approximate it as a bunch of lines joined together; to make it closer to the wiggly function, we just have to use shorter lines. This is known as the universal approximation theorem. The three lines of code that we have here are known as layers. The first and third are known as linear layers, and the sec‐ ond line of code is known variously as a nonlinearity, or activation function.\n",
        "\n",
        "\n",
        "Just as in the previous section, we can replace this code with something a bit simpler by taking advantage of PyTorch:\n"
      ],
      "metadata": {
        "id": "gFBuGXhOQrU2"
      }
    },
    {
      "cell_type": "code",
      "source": [
        "simple_net = nn.Sequential(\n",
        "        nn.Linear(28*28,30),\n",
        "        nn.ReLU(),\n",
        "        nn.Linear(30,1)\n",
        ")"
      ],
      "metadata": {
        "id": "gaoyLjv5QzhB"
      },
      "execution_count": 113,
      "outputs": []
    },
    {
      "cell_type": "markdown",
      "source": [
        "nn.Sequential creates a module that will call each of the listed layers or functions in turn."
      ],
      "metadata": {
        "id": "9Iw_lhKgQ5Sq"
      }
    },
    {
      "cell_type": "markdown",
      "source": [
        "Because nn.Sequential is a module, we can get its parameters, which will return a list of all the parameters of all the modules it contains. Let’s try it out! As this is a deeper model, we’ll use a lower learning rate and a few more epochs:"
      ],
      "metadata": {
        "id": "Nf5xzrQTRK9e"
      }
    },
    {
      "cell_type": "code",
      "source": [
        "learn = Learner(dls, simple_net, opt_func=SGD,\n",
        "                    loss_func=mnist_loss, metrics=batch_accuracy)\n",
        "learn.fit(40, 0.1)"
      ],
      "metadata": {
        "colab": {
          "base_uri": "https://localhost:8080/",
          "height": 1000
        },
        "id": "UIkMhmBRRQHS",
        "outputId": "4c8bc8a1-ce9c-4a7d-b979-c2f13a173dfa"
      },
      "execution_count": 114,
      "outputs": [
        {
          "output_type": "display_data",
          "data": {
            "text/plain": [
              "<IPython.core.display.HTML object>"
            ],
            "text/html": [
              "\n",
              "<style>\n",
              "    /* Turns off some styling */\n",
              "    progress {\n",
              "        /* gets rid of default border in Firefox and Opera. */\n",
              "        border: none;\n",
              "        /* Needs to be in here for Safari polyfill so background images work as expected. */\n",
              "        background-size: auto;\n",
              "    }\n",
              "    progress:not([value]), progress:not([value])::-webkit-progress-bar {\n",
              "        background: repeating-linear-gradient(45deg, #7e7e7e, #7e7e7e 10px, #5c5c5c 10px, #5c5c5c 20px);\n",
              "    }\n",
              "    .progress-bar-interrupted, .progress-bar-interrupted::-webkit-progress-bar {\n",
              "        background: #F44336;\n",
              "    }\n",
              "</style>\n"
            ]
          },
          "metadata": {}
        },
        {
          "output_type": "display_data",
          "data": {
            "text/plain": [
              "<IPython.core.display.HTML object>"
            ],
            "text/html": [
              "<table border=\"1\" class=\"dataframe\">\n",
              "  <thead>\n",
              "    <tr style=\"text-align: left;\">\n",
              "      <th>epoch</th>\n",
              "      <th>train_loss</th>\n",
              "      <th>valid_loss</th>\n",
              "      <th>batch_accuracy</th>\n",
              "      <th>time</th>\n",
              "    </tr>\n",
              "  </thead>\n",
              "  <tbody>\n",
              "    <tr>\n",
              "      <td>0</td>\n",
              "      <td>0.060256</td>\n",
              "      <td>0.498336</td>\n",
              "      <td>0.504416</td>\n",
              "      <td>00:00</td>\n",
              "    </tr>\n",
              "    <tr>\n",
              "      <td>1</td>\n",
              "      <td>0.019445</td>\n",
              "      <td>0.496789</td>\n",
              "      <td>0.504416</td>\n",
              "      <td>00:00</td>\n",
              "    </tr>\n",
              "    <tr>\n",
              "      <td>2</td>\n",
              "      <td>0.008118</td>\n",
              "      <td>0.496334</td>\n",
              "      <td>0.504416</td>\n",
              "      <td>00:00</td>\n",
              "    </tr>\n",
              "    <tr>\n",
              "      <td>3</td>\n",
              "      <td>0.003946</td>\n",
              "      <td>0.496122</td>\n",
              "      <td>0.504416</td>\n",
              "      <td>00:00</td>\n",
              "    </tr>\n",
              "    <tr>\n",
              "      <td>4</td>\n",
              "      <td>0.002218</td>\n",
              "      <td>0.496001</td>\n",
              "      <td>0.504416</td>\n",
              "      <td>00:00</td>\n",
              "    </tr>\n",
              "    <tr>\n",
              "      <td>5</td>\n",
              "      <td>0.001436</td>\n",
              "      <td>0.495923</td>\n",
              "      <td>0.504416</td>\n",
              "      <td>00:00</td>\n",
              "    </tr>\n",
              "    <tr>\n",
              "      <td>6</td>\n",
              "      <td>0.001045</td>\n",
              "      <td>0.495869</td>\n",
              "      <td>0.504416</td>\n",
              "      <td>00:00</td>\n",
              "    </tr>\n",
              "    <tr>\n",
              "      <td>7</td>\n",
              "      <td>0.000827</td>\n",
              "      <td>0.495829</td>\n",
              "      <td>0.504416</td>\n",
              "      <td>00:00</td>\n",
              "    </tr>\n",
              "    <tr>\n",
              "      <td>8</td>\n",
              "      <td>0.000691</td>\n",
              "      <td>0.495799</td>\n",
              "      <td>0.504416</td>\n",
              "      <td>00:00</td>\n",
              "    </tr>\n",
              "    <tr>\n",
              "      <td>9</td>\n",
              "      <td>0.000597</td>\n",
              "      <td>0.495775</td>\n",
              "      <td>0.504416</td>\n",
              "      <td>00:00</td>\n",
              "    </tr>\n",
              "    <tr>\n",
              "      <td>10</td>\n",
              "      <td>0.000528</td>\n",
              "      <td>0.495756</td>\n",
              "      <td>0.504416</td>\n",
              "      <td>00:00</td>\n",
              "    </tr>\n",
              "    <tr>\n",
              "      <td>11</td>\n",
              "      <td>0.000474</td>\n",
              "      <td>0.495740</td>\n",
              "      <td>0.504416</td>\n",
              "      <td>00:00</td>\n",
              "    </tr>\n",
              "    <tr>\n",
              "      <td>12</td>\n",
              "      <td>0.000431</td>\n",
              "      <td>0.495726</td>\n",
              "      <td>0.504416</td>\n",
              "      <td>00:00</td>\n",
              "    </tr>\n",
              "    <tr>\n",
              "      <td>13</td>\n",
              "      <td>0.000394</td>\n",
              "      <td>0.495715</td>\n",
              "      <td>0.504416</td>\n",
              "      <td>00:00</td>\n",
              "    </tr>\n",
              "    <tr>\n",
              "      <td>14</td>\n",
              "      <td>0.000364</td>\n",
              "      <td>0.495706</td>\n",
              "      <td>0.504416</td>\n",
              "      <td>00:00</td>\n",
              "    </tr>\n",
              "    <tr>\n",
              "      <td>15</td>\n",
              "      <td>0.000338</td>\n",
              "      <td>0.495697</td>\n",
              "      <td>0.504416</td>\n",
              "      <td>00:00</td>\n",
              "    </tr>\n",
              "    <tr>\n",
              "      <td>16</td>\n",
              "      <td>0.000315</td>\n",
              "      <td>0.495690</td>\n",
              "      <td>0.504416</td>\n",
              "      <td>00:00</td>\n",
              "    </tr>\n",
              "    <tr>\n",
              "      <td>17</td>\n",
              "      <td>0.000296</td>\n",
              "      <td>0.495683</td>\n",
              "      <td>0.504416</td>\n",
              "      <td>00:00</td>\n",
              "    </tr>\n",
              "    <tr>\n",
              "      <td>18</td>\n",
              "      <td>0.000278</td>\n",
              "      <td>0.495678</td>\n",
              "      <td>0.504416</td>\n",
              "      <td>00:00</td>\n",
              "    </tr>\n",
              "    <tr>\n",
              "      <td>19</td>\n",
              "      <td>0.000263</td>\n",
              "      <td>0.495673</td>\n",
              "      <td>0.504416</td>\n",
              "      <td>00:00</td>\n",
              "    </tr>\n",
              "    <tr>\n",
              "      <td>20</td>\n",
              "      <td>0.000249</td>\n",
              "      <td>0.495668</td>\n",
              "      <td>0.504416</td>\n",
              "      <td>00:00</td>\n",
              "    </tr>\n",
              "    <tr>\n",
              "      <td>21</td>\n",
              "      <td>0.000236</td>\n",
              "      <td>0.495664</td>\n",
              "      <td>0.504416</td>\n",
              "      <td>00:00</td>\n",
              "    </tr>\n",
              "    <tr>\n",
              "      <td>22</td>\n",
              "      <td>0.000225</td>\n",
              "      <td>0.495660</td>\n",
              "      <td>0.504416</td>\n",
              "      <td>00:00</td>\n",
              "    </tr>\n",
              "    <tr>\n",
              "      <td>23</td>\n",
              "      <td>0.000214</td>\n",
              "      <td>0.495656</td>\n",
              "      <td>0.504416</td>\n",
              "      <td>00:00</td>\n",
              "    </tr>\n",
              "    <tr>\n",
              "      <td>24</td>\n",
              "      <td>0.000205</td>\n",
              "      <td>0.495653</td>\n",
              "      <td>0.504416</td>\n",
              "      <td>00:00</td>\n",
              "    </tr>\n",
              "    <tr>\n",
              "      <td>25</td>\n",
              "      <td>0.000196</td>\n",
              "      <td>0.495650</td>\n",
              "      <td>0.504416</td>\n",
              "      <td>00:00</td>\n",
              "    </tr>\n",
              "    <tr>\n",
              "      <td>26</td>\n",
              "      <td>0.000189</td>\n",
              "      <td>0.495648</td>\n",
              "      <td>0.504416</td>\n",
              "      <td>00:00</td>\n",
              "    </tr>\n",
              "    <tr>\n",
              "      <td>27</td>\n",
              "      <td>0.000181</td>\n",
              "      <td>0.495645</td>\n",
              "      <td>0.504416</td>\n",
              "      <td>00:00</td>\n",
              "    </tr>\n",
              "    <tr>\n",
              "      <td>28</td>\n",
              "      <td>0.000174</td>\n",
              "      <td>0.495643</td>\n",
              "      <td>0.504416</td>\n",
              "      <td>00:00</td>\n",
              "    </tr>\n",
              "    <tr>\n",
              "      <td>29</td>\n",
              "      <td>0.000168</td>\n",
              "      <td>0.495641</td>\n",
              "      <td>0.504416</td>\n",
              "      <td>00:00</td>\n",
              "    </tr>\n",
              "    <tr>\n",
              "      <td>30</td>\n",
              "      <td>0.000162</td>\n",
              "      <td>0.495639</td>\n",
              "      <td>0.504416</td>\n",
              "      <td>00:00</td>\n",
              "    </tr>\n",
              "    <tr>\n",
              "      <td>31</td>\n",
              "      <td>0.000157</td>\n",
              "      <td>0.495637</td>\n",
              "      <td>0.504416</td>\n",
              "      <td>00:00</td>\n",
              "    </tr>\n",
              "    <tr>\n",
              "      <td>32</td>\n",
              "      <td>0.000152</td>\n",
              "      <td>0.495635</td>\n",
              "      <td>0.504416</td>\n",
              "      <td>00:00</td>\n",
              "    </tr>\n",
              "    <tr>\n",
              "      <td>33</td>\n",
              "      <td>0.000147</td>\n",
              "      <td>0.495634</td>\n",
              "      <td>0.504416</td>\n",
              "      <td>00:00</td>\n",
              "    </tr>\n",
              "    <tr>\n",
              "      <td>34</td>\n",
              "      <td>0.000142</td>\n",
              "      <td>0.495632</td>\n",
              "      <td>0.504416</td>\n",
              "      <td>00:00</td>\n",
              "    </tr>\n",
              "    <tr>\n",
              "      <td>35</td>\n",
              "      <td>0.000138</td>\n",
              "      <td>0.495631</td>\n",
              "      <td>0.504416</td>\n",
              "      <td>00:00</td>\n",
              "    </tr>\n",
              "    <tr>\n",
              "      <td>36</td>\n",
              "      <td>0.000134</td>\n",
              "      <td>0.495629</td>\n",
              "      <td>0.504416</td>\n",
              "      <td>00:00</td>\n",
              "    </tr>\n",
              "    <tr>\n",
              "      <td>37</td>\n",
              "      <td>0.000130</td>\n",
              "      <td>0.495628</td>\n",
              "      <td>0.504416</td>\n",
              "      <td>00:00</td>\n",
              "    </tr>\n",
              "    <tr>\n",
              "      <td>38</td>\n",
              "      <td>0.000127</td>\n",
              "      <td>0.495627</td>\n",
              "      <td>0.504416</td>\n",
              "      <td>00:00</td>\n",
              "    </tr>\n",
              "    <tr>\n",
              "      <td>39</td>\n",
              "      <td>0.000123</td>\n",
              "      <td>0.495625</td>\n",
              "      <td>0.504416</td>\n",
              "      <td>00:00</td>\n",
              "    </tr>\n",
              "  </tbody>\n",
              "</table>"
            ]
          },
          "metadata": {}
        }
      ]
    },
    {
      "cell_type": "code",
      "source": [
        "plt.plot(L(learn.recorder.values).itemgot(2));"
      ],
      "metadata": {
        "colab": {
          "base_uri": "https://localhost:8080/",
          "height": 430
        },
        "id": "6xNogy4HRePT",
        "outputId": "b74cda20-0c49-4606-84b4-c3f603f3254f"
      },
      "execution_count": 115,
      "outputs": [
        {
          "output_type": "display_data",
          "data": {
            "text/plain": [
              "<Figure size 640x480 with 1 Axes>"
            ],
            "image/png": "[encoded data removed]"
          },
          "metadata": {}
        }
      ]
    },
    {
      "cell_type": "markdown",
      "source": [
        "And we can view the final accuracy"
      ],
      "metadata": {
        "id": "RGnQ469ERjyY"
      }
    },
    {
      "cell_type": "code",
      "source": [
        "learn.recorder.values[-1][2]"
      ],
      "metadata": {
        "colab": {
          "base_uri": "https://localhost:8080/"
        },
        "id": "PpnDvQBQRjLx",
        "outputId": "b78f9043-ee59-4c41-c82c-e059ef91b7e7"
      },
      "execution_count": 116,
      "outputs": [
        {
          "output_type": "execute_result",
          "data": {
            "text/plain": [
              "0.5044161081314087"
            ]
          },
          "metadata": {},
          "execution_count": 116
        }
      ]
    },
    {
      "cell_type": "markdown",
      "source": [
        "At this point, we have something that is rather magical:\n",
        "• A function that can solve any problem to any level of accuracy (the neural network) given the correct set of parameters\n",
        "• A way to find the best set of parameters for any function (stochastic gradient descent)"
      ],
      "metadata": {
        "id": "LF0lWxs6Rqg4"
      }
    }
  ]
}